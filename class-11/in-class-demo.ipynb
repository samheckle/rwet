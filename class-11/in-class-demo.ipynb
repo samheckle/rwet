{
 "cells": [
  {
   "cell_type": "code",
   "execution_count": 1,
   "id": "83585da5",
   "metadata": {},
   "outputs": [
    {
     "name": "stdout",
     "output_type": "stream",
     "text": [
      "Collecting pronouncing\n",
      "  Downloading pronouncing-0.2.0.tar.gz (17 kB)\n",
      "  Preparing metadata (setup.py) ... \u001b[?25ldone\n",
      "\u001b[?25hCollecting cmudict>=0.4.0\n",
      "  Downloading cmudict-1.0.2-py2.py3-none-any.whl (939 kB)\n",
      "\u001b[2K     \u001b[38;2;114;156;31m━━━━━━━━━━━━━━━━━━━━━━━━━━━━━━━━━━━━━━━\u001b[0m \u001b[32m939.7/939.7 KB\u001b[0m \u001b[31m2.4 MB/s\u001b[0m eta \u001b[36m0:00:00\u001b[0m MB/s\u001b[0m eta \u001b[36m0:00:01\u001b[0m:01\u001b[0m\n",
      "\u001b[?25hBuilding wheels for collected packages: pronouncing\n",
      "  Building wheel for pronouncing (setup.py) ... \u001b[?25ldone\n",
      "\u001b[?25h  Created wheel for pronouncing: filename=pronouncing-0.2.0-py2.py3-none-any.whl size=6252 sha256=5ca5a18eaeb72f0f44bf189e1bf623c991a0585fcaac49ec858d9bd0c912abc6\n",
      "  Stored in directory: /Users/samheckle/Library/Caches/pip/wheels/8d/a6/40/83b530409a1f2733aee6576f121e7478a046a4617a2db4fe71\n",
      "Successfully built pronouncing\n",
      "Installing collected packages: cmudict, pronouncing\n",
      "Successfully installed cmudict-1.0.2 pronouncing-0.2.0\n"
     ]
    }
   ],
   "source": [
    "!{\"/Users/samheckle/Documents/school/spring\\ 2022/env/bin/python3\"} -m pip install pronouncing"
   ]
  },
  {
   "cell_type": "code",
   "execution_count": 2,
   "id": "9b8bab3b",
   "metadata": {},
   "outputs": [],
   "source": [
    "import pronouncing as pr"
   ]
  },
  {
   "cell_type": "code",
   "execution_count": 4,
   "id": "30a0567c",
   "metadata": {},
   "outputs": [
    {
     "data": {
      "text/plain": [
       "['P ER0 M IH1 T', 'P ER1 M IH2 T']"
      ]
     },
     "execution_count": 4,
     "metadata": {},
     "output_type": "execute_result"
    }
   ],
   "source": [
    "pr.phones_for_word(\"permit\")"
   ]
  },
  {
   "cell_type": "code",
   "execution_count": 7,
   "id": "f3fd8872",
   "metadata": {},
   "outputs": [
    {
     "data": {
      "text/plain": [
       "[]"
      ]
     },
     "execution_count": 7,
     "metadata": {},
     "output_type": "execute_result"
    }
   ],
   "source": [
    "# looking up word that doesn't exist results in empty list \n",
    "pr.phones_for_word(\"pikachu\")\n",
    "# also cannot use punctuation\n",
    "pr.phones_for_word(\"permit,\")"
   ]
  },
  {
   "cell_type": "markdown",
   "id": "1f75e647",
   "metadata": {},
   "source": [
    "on made up words -- library made by allison\n",
    "https://github.com/aparrish/pincelate"
   ]
  },
  {
   "cell_type": "markdown",
   "id": "3771220c",
   "metadata": {},
   "source": [
    "# counting most common sounds"
   ]
  },
  {
   "cell_type": "code",
   "execution_count": 13,
   "id": "b1ca6f25",
   "metadata": {},
   "outputs": [],
   "source": [
    "text = \"april is the cruelest month breeding lilacs out of the dead\""
   ]
  },
  {
   "cell_type": "code",
   "execution_count": 11,
   "id": "635924a7",
   "metadata": {},
   "outputs": [
    {
     "data": {
      "text/plain": [
       "[('allison', 2), ('parrish', 2), ('cat', 1), ('lunch', 1), ('cheese', 1)]"
      ]
     },
     "execution_count": 11,
     "metadata": {},
     "output_type": "execute_result"
    }
   ],
   "source": [
    "# finding most common letter\n",
    "from collections import Counter\n",
    "Counter([\"allison\", \"allison\", \"parrish\", \"parrish\", \"cat\", \"lunch\", \"cheese\"]).most_common()"
   ]
  },
  {
   "cell_type": "code",
   "execution_count": 15,
   "id": "f29b8ef7",
   "metadata": {},
   "outputs": [
    {
     "data": {
      "text/plain": [
       "[(' ', 10),\n",
       " ('e', 7),\n",
       " ('t', 5),\n",
       " ('i', 4),\n",
       " ('l', 4),\n",
       " ('a', 3),\n",
       " ('r', 3),\n",
       " ('s', 3),\n",
       " ('h', 3),\n",
       " ('o', 3),\n",
       " ('d', 3),\n",
       " ('c', 2),\n",
       " ('u', 2),\n",
       " ('n', 2),\n",
       " ('p', 1),\n",
       " ('m', 1),\n",
       " ('b', 1),\n",
       " ('g', 1),\n",
       " ('f', 1)]"
      ]
     },
     "execution_count": 15,
     "metadata": {},
     "output_type": "execute_result"
    }
   ],
   "source": [
    "Counter(text).most_common()"
   ]
  },
  {
   "cell_type": "code",
   "execution_count": 16,
   "id": "cebab6b5",
   "metadata": {},
   "outputs": [],
   "source": [
    "count = Counter()\n",
    "words = text.split()"
   ]
  },
  {
   "cell_type": "code",
   "execution_count": 19,
   "id": "ab85bcf1",
   "metadata": {},
   "outputs": [],
   "source": [
    "for item in words:\n",
    "    # get all possible pronounciations\n",
    "    phones = pr.phones_for_word(item)\n",
    "    # if there are any\n",
    "    if len(phones) > 0:\n",
    "        # update counter\n",
    "        count.update(phones[0].split(\" \"))"
   ]
  },
  {
   "cell_type": "code",
   "execution_count": 20,
   "id": "6ba69f28",
   "metadata": {},
   "outputs": [
    {
     "data": {
      "text/plain": [
       "[('AH0', 4),\n",
       " ('L', 4),\n",
       " ('R', 3),\n",
       " ('D', 3),\n",
       " ('DH', 2),\n",
       " ('K', 2),\n",
       " ('S', 2),\n",
       " ('T', 2),\n",
       " ('AH1', 2),\n",
       " ('EY1', 1),\n",
       " ('P', 1),\n",
       " ('IH1', 1),\n",
       " ('Z', 1),\n",
       " ('UW1', 1),\n",
       " ('M', 1),\n",
       " ('N', 1),\n",
       " ('TH', 1),\n",
       " ('B', 1),\n",
       " ('IY1', 1),\n",
       " ('IH0', 1),\n",
       " ('NG', 1),\n",
       " ('AY1', 1),\n",
       " ('AE2', 1),\n",
       " ('AW1', 1),\n",
       " ('V', 1),\n",
       " ('EH1', 1)]"
      ]
     },
     "execution_count": 20,
     "metadata": {},
     "output_type": "execute_result"
    }
   ],
   "source": [
    "count.most_common()"
   ]
  },
  {
   "cell_type": "markdown",
   "id": "eba3a9d3",
   "metadata": {},
   "source": [
    "# pronouncing search"
   ]
  },
  {
   "cell_type": "code",
   "execution_count": 22,
   "id": "cc7fd544",
   "metadata": {},
   "outputs": [
    {
     "data": {
      "text/plain": [
       "['arbitrager',\n",
       " 'arbitragers',\n",
       " \"arbitragers'\",\n",
       " 'arbitrageur',\n",
       " 'azure',\n",
       " 'blasier',\n",
       " \"blasier's\",\n",
       " 'braziers',\n",
       " 'closure',\n",
       " 'closures',\n",
       " 'colclasure',\n",
       " 'composure',\n",
       " 'countermeasure',\n",
       " 'countermeasures',\n",
       " 'crozier',\n",
       " 'disclosure',\n",
       " 'disclosures',\n",
       " 'displeasure',\n",
       " 'enclosure',\n",
       " 'enclosure',\n",
       " 'enclosures',\n",
       " 'exposure',\n",
       " 'exposures',\n",
       " 'foreclosure',\n",
       " 'foreclosures',\n",
       " 'fraiser',\n",
       " 'fraizer',\n",
       " 'frasier',\n",
       " \"frasier's\",\n",
       " 'frasure',\n",
       " 'frazier',\n",
       " 'germaine',\n",
       " 'geroux',\n",
       " 'gervais',\n",
       " 'geurin',\n",
       " 'girod',\n",
       " 'hoosier',\n",
       " 'hosiery',\n",
       " 'immeasurable',\n",
       " 'immeasurably',\n",
       " 'inclosure',\n",
       " 'jarrard',\n",
       " 'jarreau',\n",
       " 'jarriel',\n",
       " \"jarriel's\",\n",
       " 'lasure',\n",
       " 'leasure',\n",
       " 'leisure',\n",
       " 'leisure',\n",
       " 'lingerie',\n",
       " 'losure',\n",
       " 'luxuries',\n",
       " 'luxury',\n",
       " 'massager',\n",
       " 'massagers',\n",
       " 'measurable',\n",
       " 'measurably',\n",
       " 'measure',\n",
       " \"measure's\",\n",
       " 'measured',\n",
       " 'measurement',\n",
       " 'measurements',\n",
       " 'measures',\n",
       " 'measuring',\n",
       " 'mosher',\n",
       " 'mosier',\n",
       " 'overexposure',\n",
       " 'pleasurable',\n",
       " 'pleasure',\n",
       " 'pleasures',\n",
       " 'seizure',\n",
       " 'seizures',\n",
       " 'treasure',\n",
       " 'treasured',\n",
       " 'treasurer',\n",
       " \"treasurer's\",\n",
       " 'treasurers',\n",
       " 'treasures',\n",
       " 'treasuries',\n",
       " 'treasury',\n",
       " \"treasury's\",\n",
       " 'treasurys',\n",
       " 'usury']"
      ]
     },
     "execution_count": 22,
     "metadata": {},
     "output_type": "execute_result"
    }
   ],
   "source": [
    "pr.search(\"ZH ER0\")"
   ]
  },
  {
   "cell_type": "code",
   "execution_count": 24,
   "id": "61f01757",
   "metadata": {},
   "outputs": [
    {
     "data": {
      "text/plain": [
       "['bochicchio', 'kiki', 'waikiki']"
      ]
     },
     "execution_count": 24,
     "metadata": {},
     "output_type": "execute_result"
    }
   ],
   "source": [
    "# BUILT USING REGEX, SO FOLLOWS REGEX CHARACTERS\n",
    "pr.search(\"K IY. K IY.\")"
   ]
  },
  {
   "cell_type": "code",
   "execution_count": 25,
   "id": "e4deb344",
   "metadata": {},
   "outputs": [],
   "source": [
    "import random"
   ]
  },
  {
   "cell_type": "code",
   "execution_count": 26,
   "id": "0dd6acd0",
   "metadata": {},
   "outputs": [
    {
     "name": "stdout",
     "output_type": "stream",
     "text": [
      "aprons is them cristobal mullan brienza linings outland ovens them deblock\n"
     ]
    }
   ],
   "source": [
    "out = []\n",
    "for item in text.split():\n",
    "    all_phones = pr.phones_for_word(item)\n",
    "    if len(all_phones) > 0:\n",
    "        phones = all_phones[0]\n",
    "        first2phones = phones.split()[:2]\n",
    "        matching = pr.search(\"^\" + \" \".join(first2phones))\n",
    "        picked = random.choice(matching)\n",
    "        out.append(picked)\n",
    "print(\" \".join(out))"
   ]
  },
  {
   "cell_type": "markdown",
   "id": "7129cacf",
   "metadata": {},
   "source": [
    "# counting syllables"
   ]
  },
  {
   "cell_type": "code",
   "execution_count": 27,
   "id": "ad5321e7",
   "metadata": {},
   "outputs": [
    {
     "data": {
      "text/plain": [
       "2"
      ]
     },
     "execution_count": 27,
     "metadata": {},
     "output_type": "execute_result"
    }
   ],
   "source": [
    "# COUNTS THE NUMBER OF VOWELS\n",
    "# thats how you count syllables in the first place lol\n",
    "pr.syllable_count(\"B R IY1 D IH0 NG\")"
   ]
  },
  {
   "cell_type": "code",
   "execution_count": 29,
   "id": "af8c5bd2",
   "metadata": {},
   "outputs": [
    {
     "data": {
      "text/plain": [
       "3"
      ]
     },
     "execution_count": 29,
     "metadata": {},
     "output_type": "execute_result"
    }
   ],
   "source": [
    "pr.syllable_count(pr.phones_for_word(\"programming\")[0])"
   ]
  },
  {
   "cell_type": "markdown",
   "id": "7a3ba9fc",
   "metadata": {},
   "source": [
    "# stress patterns\n",
    "\n",
    "    iambic pentameter\n",
    "    pentameter = five metrical units\n",
    "    iambic = metrical unit is the iamb (stressed/unstressed)"
   ]
  },
  {
   "cell_type": "code",
   "execution_count": 32,
   "id": "08963455",
   "metadata": {},
   "outputs": [
    {
     "data": {
      "text/plain": [
       "['accountability',\n",
       " 'caricaturist',\n",
       " 'electrophoresis',\n",
       " 'encarnacion',\n",
       " 'epidemiological',\n",
       " 'heterosexuality',\n",
       " 'parliamentarianism',\n",
       " 'ricostruzione',\n",
       " 'theatergoer',\n",
       " 'theatergoers',\n",
       " 'underkoffler']"
      ]
     },
     "execution_count": 32,
     "metadata": {},
     "output_type": "execute_result"
    }
   ],
   "source": [
    "# anchoring using ^ for beginning and $ at the end\n",
    "pr.search_stresses(\"0000\")"
   ]
  },
  {
   "cell_type": "markdown",
   "id": "babd1abf",
   "metadata": {},
   "source": [
    "# rhyme"
   ]
  },
  {
   "cell_type": "code",
   "execution_count": 34,
   "id": "2344999c",
   "metadata": {},
   "outputs": [
    {
     "data": {
      "text/plain": [
       "['mailings', 'railings', 'tailings']"
      ]
     },
     "execution_count": 34,
     "metadata": {},
     "output_type": "execute_result"
    }
   ],
   "source": [
    "pr.rhymes(\"failings\")"
   ]
  },
  {
   "cell_type": "code",
   "execution_count": 35,
   "id": "99ad386a",
   "metadata": {},
   "outputs": [
    {
     "data": {
      "text/plain": [
       "'IY1 D IH0 NG'"
      ]
     },
     "execution_count": 35,
     "metadata": {},
     "output_type": "execute_result"
    }
   ],
   "source": [
    "pr.rhyming_part(\"B R IY1 D IH0 NG\")"
   ]
  },
  {
   "cell_type": "code",
   "execution_count": null,
   "id": "d1ea5c9c",
   "metadata": {},
   "outputs": [],
   "source": []
  }
 ],
 "metadata": {
  "kernelspec": {
   "display_name": "Python 3 (ipykernel)",
   "language": "python",
   "name": "python3"
  },
  "language_info": {
   "codemirror_mode": {
    "name": "ipython",
    "version": 3
   },
   "file_extension": ".py",
   "mimetype": "text/x-python",
   "name": "python",
   "nbconvert_exporter": "python",
   "pygments_lexer": "ipython3",
   "version": "3.8.7"
  }
 },
 "nbformat": 4,
 "nbformat_minor": 5
}
