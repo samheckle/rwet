{
 "cells": [
  {
   "cell_type": "markdown",
   "id": "712f8070",
   "metadata": {},
   "source": [
    "continuing from [class 6](../class-6/nlp-demo.ipynb)\n",
    "\n",
    "[spacy visualizers for sentence diagramming](https://spacy.io/usage/visualizers)"
   ]
  },
  {
   "cell_type": "code",
   "execution_count": 1,
   "id": "478ce8bd",
   "metadata": {},
   "outputs": [],
   "source": [
    "import spacy"
   ]
  },
  {
   "cell_type": "code",
   "execution_count": 2,
   "id": "8e5b4c21",
   "metadata": {},
   "outputs": [
    {
     "name": "stdout",
     "output_type": "stream",
     "text": [
      "Collecting en-core-web-md==3.2.0\n",
      "  Using cached https://github.com/explosion/spacy-models/releases/download/en_core_web_md-3.2.0/en_core_web_md-3.2.0-py3-none-any.whl (45.7 MB)\n",
      "Requirement already satisfied: spacy<3.3.0,>=3.2.0 in /Users/samheckle/Documents/school/spring 2022/env/lib/python3.8/site-packages (from en-core-web-md==3.2.0) (3.2.3)\n",
      "Requirement already satisfied: thinc<8.1.0,>=8.0.12 in /Users/samheckle/Documents/school/spring 2022/env/lib/python3.8/site-packages (from spacy<3.3.0,>=3.2.0->en-core-web-md==3.2.0) (8.0.13)\n",
      "Requirement already satisfied: spacy-legacy<3.1.0,>=3.0.8 in /Users/samheckle/Documents/school/spring 2022/env/lib/python3.8/site-packages (from spacy<3.3.0,>=3.2.0->en-core-web-md==3.2.0) (3.0.9)\n",
      "Requirement already satisfied: cymem<2.1.0,>=2.0.2 in /Users/samheckle/Documents/school/spring 2022/env/lib/python3.8/site-packages (from spacy<3.3.0,>=3.2.0->en-core-web-md==3.2.0) (2.0.6)\n",
      "Requirement already satisfied: wasabi<1.1.0,>=0.8.1 in /Users/samheckle/Documents/school/spring 2022/env/lib/python3.8/site-packages (from spacy<3.3.0,>=3.2.0->en-core-web-md==3.2.0) (0.9.0)\n",
      "Requirement already satisfied: preshed<3.1.0,>=3.0.2 in /Users/samheckle/Documents/school/spring 2022/env/lib/python3.8/site-packages (from spacy<3.3.0,>=3.2.0->en-core-web-md==3.2.0) (3.0.6)\n",
      "Requirement already satisfied: catalogue<2.1.0,>=2.0.6 in /Users/samheckle/Documents/school/spring 2022/env/lib/python3.8/site-packages (from spacy<3.3.0,>=3.2.0->en-core-web-md==3.2.0) (2.0.6)\n",
      "Requirement already satisfied: langcodes<4.0.0,>=3.2.0 in /Users/samheckle/Documents/school/spring 2022/env/lib/python3.8/site-packages (from spacy<3.3.0,>=3.2.0->en-core-web-md==3.2.0) (3.3.0)\n",
      "Requirement already satisfied: jinja2 in /Users/samheckle/Documents/school/spring 2022/env/lib/python3.8/site-packages (from spacy<3.3.0,>=3.2.0->en-core-web-md==3.2.0) (3.0.3)\n",
      "Requirement already satisfied: typer<0.5.0,>=0.3.0 in /Users/samheckle/Documents/school/spring 2022/env/lib/python3.8/site-packages (from spacy<3.3.0,>=3.2.0->en-core-web-md==3.2.0) (0.4.0)\n",
      "Requirement already satisfied: murmurhash<1.1.0,>=0.28.0 in /Users/samheckle/Documents/school/spring 2022/env/lib/python3.8/site-packages (from spacy<3.3.0,>=3.2.0->en-core-web-md==3.2.0) (1.0.6)\n",
      "Requirement already satisfied: packaging>=20.0 in /Users/samheckle/Documents/school/spring 2022/env/lib/python3.8/site-packages (from spacy<3.3.0,>=3.2.0->en-core-web-md==3.2.0) (21.3)\n",
      "Requirement already satisfied: requests<3.0.0,>=2.13.0 in /Users/samheckle/Documents/school/spring 2022/env/lib/python3.8/site-packages (from spacy<3.3.0,>=3.2.0->en-core-web-md==3.2.0) (2.27.1)\n",
      "Requirement already satisfied: pydantic!=1.8,!=1.8.1,<1.9.0,>=1.7.4 in /Users/samheckle/Documents/school/spring 2022/env/lib/python3.8/site-packages (from spacy<3.3.0,>=3.2.0->en-core-web-md==3.2.0) (1.8.2)\n",
      "Requirement already satisfied: tqdm<5.0.0,>=4.38.0 in /Users/samheckle/Documents/school/spring 2022/env/lib/python3.8/site-packages (from spacy<3.3.0,>=3.2.0->en-core-web-md==3.2.0) (4.63.0)\n",
      "Requirement already satisfied: pathy>=0.3.5 in /Users/samheckle/Documents/school/spring 2022/env/lib/python3.8/site-packages (from spacy<3.3.0,>=3.2.0->en-core-web-md==3.2.0) (0.6.1)\n",
      "Requirement already satisfied: blis<0.8.0,>=0.4.0 in /Users/samheckle/Documents/school/spring 2022/env/lib/python3.8/site-packages (from spacy<3.3.0,>=3.2.0->en-core-web-md==3.2.0) (0.7.6)\n",
      "Requirement already satisfied: setuptools in /Users/samheckle/Documents/school/spring 2022/env/lib/python3.8/site-packages (from spacy<3.3.0,>=3.2.0->en-core-web-md==3.2.0) (60.9.3)\n",
      "Requirement already satisfied: spacy-loggers<2.0.0,>=1.0.0 in /Users/samheckle/Documents/school/spring 2022/env/lib/python3.8/site-packages (from spacy<3.3.0,>=3.2.0->en-core-web-md==3.2.0) (1.0.1)\n",
      "Requirement already satisfied: srsly<3.0.0,>=2.4.1 in /Users/samheckle/Documents/school/spring 2022/env/lib/python3.8/site-packages (from spacy<3.3.0,>=3.2.0->en-core-web-md==3.2.0) (2.4.2)\n",
      "Requirement already satisfied: numpy>=1.15.0 in /Users/samheckle/Documents/school/spring 2022/env/lib/python3.8/site-packages (from spacy<3.3.0,>=3.2.0->en-core-web-md==3.2.0) (1.22.2)\n",
      "Requirement already satisfied: pyparsing!=3.0.5,>=2.0.2 in /Users/samheckle/Documents/school/spring 2022/env/lib/python3.8/site-packages (from packaging>=20.0->spacy<3.3.0,>=3.2.0->en-core-web-md==3.2.0) (3.0.7)\n",
      "Requirement already satisfied: smart-open<6.0.0,>=5.0.0 in /Users/samheckle/Documents/school/spring 2022/env/lib/python3.8/site-packages (from pathy>=0.3.5->spacy<3.3.0,>=3.2.0->en-core-web-md==3.2.0) (5.2.1)\n",
      "Requirement already satisfied: typing-extensions>=3.7.4.3 in /Users/samheckle/Documents/school/spring 2022/env/lib/python3.8/site-packages (from pydantic!=1.8,!=1.8.1,<1.9.0,>=1.7.4->spacy<3.3.0,>=3.2.0->en-core-web-md==3.2.0) (4.0.1)\n",
      "Requirement already satisfied: urllib3<1.27,>=1.21.1 in /Users/samheckle/Documents/school/spring 2022/env/lib/python3.8/site-packages (from requests<3.0.0,>=2.13.0->spacy<3.3.0,>=3.2.0->en-core-web-md==3.2.0) (1.26.8)\n",
      "Requirement already satisfied: charset-normalizer~=2.0.0 in /Users/samheckle/Documents/school/spring 2022/env/lib/python3.8/site-packages (from requests<3.0.0,>=2.13.0->spacy<3.3.0,>=3.2.0->en-core-web-md==3.2.0) (2.0.12)\n",
      "Requirement already satisfied: certifi>=2017.4.17 in /Users/samheckle/Documents/school/spring 2022/env/lib/python3.8/site-packages (from requests<3.0.0,>=2.13.0->spacy<3.3.0,>=3.2.0->en-core-web-md==3.2.0) (2021.10.8)\n",
      "Requirement already satisfied: idna<4,>=2.5 in /Users/samheckle/Documents/school/spring 2022/env/lib/python3.8/site-packages (from requests<3.0.0,>=2.13.0->spacy<3.3.0,>=3.2.0->en-core-web-md==3.2.0) (3.3)\n",
      "Requirement already satisfied: click<9.0.0,>=7.1.1 in /Users/samheckle/Documents/school/spring 2022/env/lib/python3.8/site-packages (from typer<0.5.0,>=0.3.0->spacy<3.3.0,>=3.2.0->en-core-web-md==3.2.0) (8.0.3)\n",
      "Requirement already satisfied: MarkupSafe>=2.0 in /Users/samheckle/Documents/school/spring 2022/env/lib/python3.8/site-packages (from jinja2->spacy<3.3.0,>=3.2.0->en-core-web-md==3.2.0) (2.0.1)\n",
      "\u001b[38;5;2m✔ Download and installation successful\u001b[0m\n",
      "You can now load the package via spacy.load('en_core_web_md')\n"
     ]
    }
   ],
   "source": [
    "import sys\n",
    "!{\"/Users/samheckle/Documents/school/spring\\ 2022/env/bin/python3\"} -m spacy download en_core_web_md"
   ]
  },
  {
   "cell_type": "code",
   "execution_count": 3,
   "id": "610bfba1",
   "metadata": {},
   "outputs": [],
   "source": [
    "nlp = spacy.load('en_core_web_md')"
   ]
  },
  {
   "cell_type": "code",
   "execution_count": 4,
   "id": "908128de",
   "metadata": {},
   "outputs": [],
   "source": [
    "doc = nlp(open(\"frankenstein.txt\").read())"
   ]
  },
  {
   "cell_type": "markdown",
   "id": "fc9c9795",
   "metadata": {},
   "source": [
    "[penn pos list](https://www.ling.upenn.edu/courses/Fall_2003/ling001/penn_treebank_pos.html)"
   ]
  },
  {
   "cell_type": "code",
   "execution_count": 14,
   "id": "853cfe55",
   "metadata": {},
   "outputs": [],
   "source": [
    "nouns = [item.text for item in doc if item.tag_ == 'NN']\n",
    "past_tense_verbs = [item.text for item in doc if item.tag_ == 'VBD']\n",
    "adj = [item.text for item in doc if item.tag_ == 'JJ']\n",
    "interjections = [item.text for item in doc if item.tag_ == 'UH' and len(item.text)>1]"
   ]
  },
  {
   "cell_type": "code",
   "execution_count": 28,
   "id": "34e66afb",
   "metadata": {},
   "outputs": [],
   "source": [
    "# remove duplicates by creating a set from the list and then turning it back into list\n",
    "dedup_nouns = list(set(nouns))"
   ]
  },
  {
   "cell_type": "code",
   "execution_count": 15,
   "id": "ebc5cc27",
   "metadata": {},
   "outputs": [],
   "source": [
    "import random"
   ]
  },
  {
   "cell_type": "code",
   "execution_count": 16,
   "id": "2e365d79",
   "metadata": {},
   "outputs": [
    {
     "data": {
      "text/plain": [
       "'the way advanced'"
      ]
     },
     "execution_count": 16,
     "metadata": {},
     "output_type": "execute_result"
    }
   ],
   "source": [
    "'the ' + random.choice(nouns) + ' ' + random.choice(past_tense_verbs)"
   ]
  },
  {
   "cell_type": "code",
   "execution_count": 17,
   "id": "23d8a8d9",
   "metadata": {},
   "outputs": [],
   "source": [
    "# removing morphology so that 'to be' is not included \n",
    "# makes language more interesting because 'to be' is not interesting in the context of creative writing\n",
    "past_tense_verbs = [item.text for item in doc if item.tag_ == 'VBD' and item.lemma_ != 'be']"
   ]
  },
  {
   "cell_type": "code",
   "execution_count": 18,
   "id": "8285b193",
   "metadata": {},
   "outputs": [],
   "source": [
    "adv = [item.text for item in doc if item.tag_ == 'RB']"
   ]
  },
  {
   "cell_type": "code",
   "execution_count": 19,
   "id": "2d686679",
   "metadata": {},
   "outputs": [],
   "source": [
    "import tracery \n",
    "from tracery.modifiers import base_english"
   ]
  },
  {
   "cell_type": "code",
   "execution_count": 27,
   "id": "2e957f49",
   "metadata": {},
   "outputs": [
    {
     "name": "stdout",
     "output_type": "stream",
     "text": [
      "Alas the air presented a tale\n",
      "Alas the human and the removal resolved\n",
      "a remorse had then sounded\n",
      "Oh the sun and the time beheld the fervour that said there\n",
      "the impenetrable hope perceived a bed barbarously then entered\n"
     ]
    }
   ],
   "source": [
    "rules = {\n",
    "    'origin': ['#interjection.capitalize# #nounphrase# #verbphrase#', '#adverb# #nounphrase# #verbphrase#', '#nounphrase# #verbphrase# then #verbphrase#'],\n",
    "    'nounphrase': ['the #noun#', '#noun.a#', 'the #adj# #noun#', 'the #noun# and the #noun#', 'the #noun# that #verbphrase#'],\n",
    "    'verbphrase': ['#verb#', '#verb# #nounphrase#', '#verb# #adverb#', '#verb# #nounphrase# #adverb#'],\n",
    "    'noun': nouns,\n",
    "    'adj': adj,\n",
    "    'verb': past_tense_verbs,\n",
    "    'adverb': adv,\n",
    "    'interjection': interjections\n",
    "}\n",
    "for i in range(5):\n",
    "    grammar = tracery.Grammar(rules)\n",
    "    grammar.add_modifiers(base_english)\n",
    "    print(grammar.flatten('#origin#'))"
   ]
  },
  {
   "cell_type": "markdown",
   "id": "b9922eb4",
   "metadata": {},
   "source": [
    "# word vectors\n",
    "\n",
    "[notes from allison](https://github.com/aparrish/rwet/blob/master/understanding-word-vectors.ipynb)\n",
    "\n",
    "1. first step in machine learning process is breaking down something into core attributes\n",
    "2. plot attributes\n",
    "3. calculate distances between each attribute"
   ]
  },
  {
   "cell_type": "code",
   "execution_count": 34,
   "id": "2150b11f",
   "metadata": {},
   "outputs": [],
   "source": [
    "# colors as vectors\n",
    "import json\n",
    "import numpy as np\n",
    "color_data = json.loads(open(\"xkcd.json\").read())"
   ]
  },
  {
   "cell_type": "code",
   "execution_count": 32,
   "id": "c0e17dc3",
   "metadata": {},
   "outputs": [],
   "source": [
    "# hex uses base 16 and second param in int() is telling it to use base 16\n",
    "def hex_to_int(s):\n",
    "    s = s.lstrip(\"#\")\n",
    "    return np.array([int(s[:2], 16), int(s[2:4], 16), int(s[4:6], 16)])"
   ]
  },
  {
   "cell_type": "code",
   "execution_count": 35,
   "id": "73980079",
   "metadata": {},
   "outputs": [],
   "source": [
    "colors = dict()\n",
    "for item in color_data['colors']:\n",
    "    colors[item[\"color\"]] = hex_to_int(item[\"hex\"])"
   ]
  },
  {
   "cell_type": "code",
   "execution_count": 36,
   "id": "5b88f0ba",
   "metadata": {},
   "outputs": [
    {
     "data": {
      "text/plain": [
       "array([110, 117,  14])"
      ]
     },
     "execution_count": 36,
     "metadata": {},
     "output_type": "execute_result"
    }
   ],
   "source": [
    "colors['olive']"
   ]
  },
  {
   "cell_type": "markdown",
   "id": "0f5bf528",
   "metadata": {},
   "source": [
    "\"numpy\" - library for doing vector math"
   ]
  },
  {
   "cell_type": "code",
   "execution_count": 37,
   "id": "5b01fbb4",
   "metadata": {},
   "outputs": [
    {
     "data": {
      "text/plain": [
       "array([5, 6])"
      ]
     },
     "execution_count": 37,
     "metadata": {},
     "output_type": "execute_result"
    }
   ],
   "source": [
    "np.array([4,5]) + np.array([1,1])"
   ]
  },
  {
   "cell_type": "code",
   "execution_count": 38,
   "id": "71bcee51",
   "metadata": {},
   "outputs": [
    {
     "data": {
      "text/plain": [
       "array([ 8, 10])"
      ]
     },
     "execution_count": 38,
     "metadata": {},
     "output_type": "execute_result"
    }
   ],
   "source": [
    "np.array([4,5]) * 2"
   ]
  },
  {
   "cell_type": "markdown",
   "id": "97da74f7",
   "metadata": {},
   "source": [
    "## vector math with colors"
   ]
  },
  {
   "cell_type": "code",
   "execution_count": 39,
   "id": "d7ba054f",
   "metadata": {},
   "outputs": [],
   "source": [
    "from numpy.linalg import norm\n",
    "def distance(a,b):\n",
    "    return norm(a-b)"
   ]
  },
  {
   "cell_type": "code",
   "execution_count": 40,
   "id": "4178ed5c",
   "metadata": {},
   "outputs": [
    {
     "data": {
      "text/plain": [
       "273.70787347096905"
      ]
     },
     "execution_count": 40,
     "metadata": {},
     "output_type": "execute_result"
    }
   ],
   "source": [
    "# forumla works for as many dimensions as needed\n",
    "distance(colors['red'], colors['green'])"
   ]
  },
  {
   "cell_type": "code",
   "execution_count": 41,
   "id": "b9e0468d",
   "metadata": {},
   "outputs": [
    {
     "data": {
      "text/plain": [
       "232.76812496559748"
      ]
     },
     "execution_count": 41,
     "metadata": {},
     "output_type": "execute_result"
    }
   ],
   "source": [
    "distance(colors['red'], colors['pink'])"
   ]
  },
  {
   "cell_type": "code",
   "execution_count": 44,
   "id": "bc3751ee",
   "metadata": {},
   "outputs": [
    {
     "data": {
      "text/plain": [
       "array([  1.5, 161. , 239. ])"
      ]
     },
     "execution_count": 44,
     "metadata": {},
     "output_type": "execute_result"
    }
   ],
   "source": [
    "(colors['cyan'] + colors['blue']) / 2"
   ]
  },
  {
   "cell_type": "markdown",
   "id": "b25cb3e4",
   "metadata": {},
   "source": [
    "## find closest item\n",
    "\n",
    "approximate nearest neighbors"
   ]
  },
  {
   "cell_type": "code",
   "execution_count": 47,
   "id": "0cb20737",
   "metadata": {},
   "outputs": [
    {
     "name": "stdout",
     "output_type": "stream",
     "text": [
      "Collecting simpleneighbors\n",
      "  Downloading simpleneighbors-0.1.0-py2.py3-none-any.whl (12 kB)\n",
      "Installing collected packages: simpleneighbors\n",
      "Successfully installed simpleneighbors-0.1.0\n"
     ]
    }
   ],
   "source": [
    "import sys\n",
    "!{\"/Users/samheckle/Documents/school/spring\\ 2022/env/bin/python3\"} -m pip install simpleneighbors"
   ]
  },
  {
   "cell_type": "code",
   "execution_count": 46,
   "id": "e8eafadf",
   "metadata": {},
   "outputs": [
    {
     "name": "stdout",
     "output_type": "stream",
     "text": [
      "Collecting annoy==1.16.3\n",
      "  Downloading annoy-1.16.3.tar.gz (644 kB)\n",
      "\u001b[2K     \u001b[38;2;114;156;31m━━━━━━━━━━━━━━━━━━━━━━━━━━━━━━━━━━━━━━━\u001b[0m \u001b[32m644.3/644.3 KB\u001b[0m \u001b[31m7.5 MB/s\u001b[0m eta \u001b[36m0:00:00\u001b[0m[36m0:00:01\u001b[0mm eta \u001b[36m0:00:01\u001b[0m\n",
      "\u001b[?25h  Preparing metadata (setup.py) ... \u001b[?25ldone\n",
      "\u001b[?25hBuilding wheels for collected packages: annoy\n",
      "  Building wheel for annoy (setup.py) ... \u001b[?25ldone\n",
      "\u001b[?25h  Created wheel for annoy: filename=annoy-1.16.3-cp38-cp38-macosx_10_9_x86_64.whl size=68931 sha256=57c3d8a325a67f727625f9330f938d5da2083a6aa6d46d3d9374dc4637d13a4a\n",
      "  Stored in directory: /Users/samheckle/Library/Caches/pip/wheels/93/66/00/3527630e17462dcb505b4688f787b40bc020268237d54e5e79\n",
      "Successfully built annoy\n",
      "Installing collected packages: annoy\n",
      "Successfully installed annoy-1.16.3\n"
     ]
    }
   ],
   "source": [
    "import sys\n",
    "!{'/Users/samheckle/Documents/school/spring\\ 2022/env/bin/python3'} -m pip install annoy==1.16.3"
   ]
  },
  {
   "cell_type": "code",
   "execution_count": 48,
   "id": "3bbc04c3",
   "metadata": {},
   "outputs": [],
   "source": [
    "from simpleneighbors import SimpleNeighbors"
   ]
  },
  {
   "cell_type": "code",
   "execution_count": 49,
   "id": "7ea3cb95",
   "metadata": {},
   "outputs": [],
   "source": [
    "color_lookup = SimpleNeighbors(3, 'euclidean')\n",
    "for name, vec in colors.items():\n",
    "    color_lookup.add_one(name, vec)\n",
    "color_lookup.build()"
   ]
  },
  {
   "cell_type": "code",
   "execution_count": 50,
   "id": "4bdab729",
   "metadata": {},
   "outputs": [
    {
     "data": {
      "text/plain": [
       "['red',\n",
       " 'fire engine red',\n",
       " 'bright red',\n",
       " 'tomato red',\n",
       " 'cherry red',\n",
       " 'scarlet',\n",
       " 'vermillion',\n",
       " 'orangish red',\n",
       " 'cherry',\n",
       " 'lipstick red',\n",
       " 'darkish red',\n",
       " 'neon red']"
      ]
     },
     "execution_count": 50,
     "metadata": {},
     "output_type": "execute_result"
    }
   ],
   "source": [
    "color_lookup.nearest(colors['red'])"
   ]
  },
  {
   "cell_type": "code",
   "execution_count": 51,
   "id": "9b5dcc23",
   "metadata": {},
   "outputs": [
    {
     "data": {
      "text/plain": [
       "True"
      ]
     },
     "execution_count": 51,
     "metadata": {},
     "output_type": "execute_result"
    }
   ],
   "source": [
    "'red' in color_lookup.corpus"
   ]
  },
  {
   "cell_type": "markdown",
   "id": "79ba89c4",
   "metadata": {},
   "source": [
    "## color magic"
   ]
  },
  {
   "cell_type": "code",
   "execution_count": 53,
   "id": "02499a8d",
   "metadata": {},
   "outputs": [
    {
     "data": {
      "text/plain": [
       "['cobalt blue',\n",
       " 'royal blue',\n",
       " 'darkish blue',\n",
       " 'true blue',\n",
       " 'royal',\n",
       " 'prussian blue',\n",
       " 'dark royal blue',\n",
       " 'deep blue',\n",
       " 'marine blue',\n",
       " 'deep sea blue',\n",
       " 'darkblue',\n",
       " 'twilight blue']"
      ]
     },
     "execution_count": 53,
     "metadata": {},
     "output_type": "execute_result"
    }
   ],
   "source": [
    "color_lookup.nearest(colors['purple'] - colors['red'])"
   ]
  },
  {
   "cell_type": "markdown",
   "id": "1bbb55b6",
   "metadata": {},
   "source": [
    "## interlude: a love poem that loses its way"
   ]
  },
  {
   "cell_type": "code",
   "execution_count": 54,
   "id": "79e3e704",
   "metadata": {},
   "outputs": [
    {
     "name": "stdout",
     "output_type": "stream",
     "text": [
      "Roses are red, violets are blue\n",
      "Roses are bright red, violets are vivid blue\n",
      "Roses are neon red, violets are primary blue\n",
      "Roses are cherry, violets are ultramarine\n",
      "Roses are deep pink, violets are royal blue\n",
      "Roses are red violet, violets are royal\n",
      "Roses are berry, violets are deep blue\n",
      "Roses are mulberry, violets are navy blue\n",
      "Roses are purple red, violets are dark\n",
      "Roses are red wine, violets are very dark purple\n",
      "Roses are berry, violets are eggplant\n",
      "Roses are red purple, violets are midnight purple\n",
      "Roses are purple red, violets are deep violet\n",
      "Roses are dark magenta, violets are eggplant purple\n"
     ]
    }
   ],
   "source": [
    "import random\n",
    "red = colors['red']\n",
    "blue = colors['blue']\n",
    "for i in range(14):\n",
    "    rednames = color_lookup.nearest(red)\n",
    "    bluenames = color_lookup.nearest(blue)\n",
    "    print(\"Roses are \" + rednames[0] + \", violets are \" + bluenames[0])\n",
    "    red = colors[random.choice(rednames[1:])]\n",
    "    blue = colors[random.choice(bluenames[1:])]"
   ]
  },
  {
   "cell_type": "markdown",
   "id": "311d0797",
   "metadata": {},
   "source": [
    "# word vectors for realsies\n",
    "\n",
    "distributional semantics = 'linguistic items with similar distributions have similar meanings'\n",
    "\n",
    "eg. \n",
    "```It was really cold yesterday.\n",
    "It will be really warm today, though.\n",
    "It'll be really hot tomorrow!\n",
    "Will it be really cool Tuesday?```"
   ]
  },
  {
   "cell_type": "markdown",
   "id": "3c989b73",
   "metadata": {},
   "source": [
    "[GloVe](https://nlp.stanford.edu/projects/glove/)"
   ]
  },
  {
   "cell_type": "code",
   "execution_count": 55,
   "id": "5d748bd6",
   "metadata": {},
   "outputs": [],
   "source": [
    "import spacy"
   ]
  },
  {
   "cell_type": "code",
   "execution_count": 56,
   "id": "40343dca",
   "metadata": {},
   "outputs": [],
   "source": [
    "nlp = spacy.load('en_core_web_md')"
   ]
  },
  {
   "cell_type": "code",
   "execution_count": null,
   "id": "8852b842",
   "metadata": {},
   "outputs": [],
   "source": [
    "nlp.vocab['kitten'].vector"
   ]
  },
  {
   "cell_type": "code",
   "execution_count": 58,
   "id": "2a8e8e34",
   "metadata": {},
   "outputs": [],
   "source": [
    "def vec(s):\n",
    "    return nlp.vocab[s].vector"
   ]
  },
  {
   "cell_type": "code",
   "execution_count": 59,
   "id": "93e869c4",
   "metadata": {},
   "outputs": [
    {
     "name": "stdout",
     "output_type": "stream",
     "text": [
      "  % Total    % Received % Xferd  Average Speed   Time    Time     Time  Current\n",
      "                                 Dload  Upload   Total   Spent    Left  Speed\n",
      "100  898k  100  898k    0     0  3105k      0 --:--:-- --:--:-- --:--:-- 3231k\n"
     ]
    }
   ],
   "source": [
    "!curl -L -O https://raw.githubusercontent.com/aparrish/wordfreq-en-25000/main/wordfreq-en-25000-log.json"
   ]
  },
  {
   "cell_type": "code",
   "execution_count": 60,
   "id": "f2ca8e22",
   "metadata": {},
   "outputs": [],
   "source": [
    "import json\n",
    "prob_lookup = dict(json.load(open(\"./wordfreq-en-25000-log.json\")))"
   ]
  },
  {
   "cell_type": "code",
   "execution_count": 61,
   "id": "7e1826c8",
   "metadata": {},
   "outputs": [
    {
     "data": {
      "text/plain": [
       "-5.7108"
      ]
     },
     "execution_count": 61,
     "metadata": {},
     "output_type": "execute_result"
    }
   ],
   "source": [
    "prob_lookup['me']"
   ]
  },
  {
   "cell_type": "code",
   "execution_count": 62,
   "id": "6a61abda",
   "metadata": {},
   "outputs": [
    {
     "data": {
      "text/plain": [
       "0.0033100234666365628"
      ]
     },
     "execution_count": 62,
     "metadata": {},
     "output_type": "execute_result"
    }
   ],
   "source": [
    "import math\n",
    "math.exp(prob_lookup['me'])"
   ]
  },
  {
   "cell_type": "code",
   "execution_count": 63,
   "id": "e0e1f194",
   "metadata": {},
   "outputs": [],
   "source": [
    "lookup = SimpleNeighbors(300)\n",
    "for word in prob_lookup.keys():\n",
    "    if nlp.vocab[word].has_vector:\n",
    "        lookup.add_one(word, vec(word))"
   ]
  },
  {
   "cell_type": "code",
   "execution_count": 64,
   "id": "bda23a55",
   "metadata": {},
   "outputs": [],
   "source": [
    "lookup.build()"
   ]
  },
  {
   "cell_type": "code",
   "execution_count": 65,
   "id": "221268b3",
   "metadata": {},
   "outputs": [
    {
     "data": {
      "text/plain": [
       "['basketball',\n",
       " 'volleyball',\n",
       " 'lacrosse',\n",
       " 'football',\n",
       " 'soccer',\n",
       " 'baseball',\n",
       " 'softball',\n",
       " 'hockey',\n",
       " 'tennis',\n",
       " 'racket',\n",
       " 'badminton',\n",
       " 'athletic']"
      ]
     },
     "execution_count": 65,
     "metadata": {},
     "output_type": "execute_result"
    }
   ],
   "source": [
    "lookup.nearest(vec('basketball'))"
   ]
  },
  {
   "cell_type": "code",
   "execution_count": null,
   "id": "00274991",
   "metadata": {},
   "outputs": [],
   "source": []
  }
 ],
 "metadata": {
  "kernelspec": {
   "display_name": "Python 3 (ipykernel)",
   "language": "python",
   "name": "python3"
  },
  "language_info": {
   "codemirror_mode": {
    "name": "ipython",
    "version": 3
   },
   "file_extension": ".py",
   "mimetype": "text/x-python",
   "name": "python",
   "nbconvert_exporter": "python",
   "pygments_lexer": "ipython3",
   "version": "3.8.7"
  }
 },
 "nbformat": 4,
 "nbformat_minor": 5
}
