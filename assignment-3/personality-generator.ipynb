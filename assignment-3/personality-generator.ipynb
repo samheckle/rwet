{
 "cells": [
  {
   "cell_type": "markdown",
   "id": "05245c6e",
   "metadata": {},
   "source": []
  },
  {
   "cell_type": "code",
   "execution_count": 1,
   "id": "eac3d8f8",
   "metadata": {},
   "outputs": [],
   "source": [
    "import tracery\n",
    "from tracery.modifiers import base_english"
   ]
  },
  {
   "cell_type": "code",
   "execution_count": 2,
   "id": "1b7c2c82",
   "metadata": {},
   "outputs": [],
   "source": [
    "import textwrap"
   ]
  },
  {
   "cell_type": "code",
   "execution_count": 3,
   "id": "5a36f1bb",
   "metadata": {},
   "outputs": [],
   "source": [
    "from IPython.display import display, HTML, Javascript\n",
    "def show_html(src):\n",
    "    return display(HTML(src), metadata=dict(isolated=True))"
   ]
  },
  {
   "cell_type": "code",
   "execution_count": 4,
   "id": "328a525c",
   "metadata": {},
   "outputs": [],
   "source": [
    "from ipywidgets import widgets"
   ]
  },
  {
   "cell_type": "code",
   "execution_count": 5,
   "id": "1c6ea756",
   "metadata": {},
   "outputs": [],
   "source": [
    "# importing files\n",
    "import json\n",
    "with open('descriptions.json') as f:\n",
    "    descript = json.load(f)\n",
    "with open('moods.json') as f:\n",
    "    mood = json.load(f)[\"moods\"]\n",
    "with open('tarot_interpretations.json') as f:\n",
    "    interpret = json.load(f)\n",
    "\n",
    "# post-processing data\n",
    "buzzwords = []\n",
    "fears = []\n",
    "desires = []\n",
    "for i in interpret[\"tarot_interpretations\"]:\n",
    "    buzzwords.extend(i[\"keywords\"])\n",
    "    desires.extend(i[\"meanings\"][\"light\"])\n",
    "    fears.extend(i[\"meanings\"][\"shadow\"])\n"
   ]
  },
  {
   "cell_type": "code",
   "execution_count": 6,
   "id": "cd03e9f7",
   "metadata": {},
   "outputs": [],
   "source": [
    "overview = [\n",
    "    \"outline\",\n",
    "    \"sketch\",\n",
    "    \"rundown\",\n",
    "    \"run-through\",\n",
    "    \"notes\",\n",
    "    \"recap\",\n",
    "    \"summary\",\n",
    "    \"synopsis\",\n",
    "    \"precis\",\n",
    "    \"abstract\",\n",
    "    \"abridgment\",\n",
    "    \"digest\",\n",
    "    \"compendium\",\n",
    "    \"abbreviated version\",\n",
    "    \"wrap-up\",\n",
    "    \"summa\",\n",
    "    \"overview\"\n",
    "]\n",
    "justification = [\n",
    "    \"on account of\",\n",
    "    \"as a result of\",\n",
    "    \"as a consequence of\",\n",
    "    \"owing to\",\n",
    "    \"by reason of\",\n",
    "    \"on grounds of\",\n",
    "    \"by dint of\",\n",
    "    \"due to\",\n",
    "    \"thanks to\",\n",
    "    \"by virtue of\",\n",
    "    \"on the strength of\",\n",
    "    \"through\",\n",
    "    \"after\",\n",
    "    \"following\",\n",
    "    \"in the wake of\",\n",
    "]"
   ]
  },
  {
   "cell_type": "code",
   "execution_count": 7,
   "id": "628e5ac4",
   "metadata": {},
   "outputs": [
    {
     "name": "stdout",
     "output_type": "stream",
     "text": [
      "THE ARDENT\n",
      "\n",
      "Ardent people's main traits are romanticism and passage. He are also deconstruction.\n",
      "\n",
      "Basic Fears: Pretending to knowledge or sophistication you do not possess and allowing base instincts to govern your life.\n",
      "Basic Desires: Seeing the interconnection of all things and people, admitting you need help, and knowing the difference between needs and wants.\n",
      "\n",
      "SKETCH\n",
      "Due to his passage, an ardent\n",
      "\n",
      "COMPATIBILITY\n",
      "On grounds of passage and pretending to knowledge or sophistication you do not possess, ARDENT is best suited with a GUARDED type.\n"
     ]
    }
   ],
   "source": [
    "rules = {\n",
    "    \"origin\": \"[#setPronouns#][#traits#][type:#descriptor#]#title#\\n\\n#shortDescription#\\n\\n#fears#\\n#desires#\\n\\n#summary#\\n\\n#compatibility#\",\n",
    "    \"descriptor\": descript[\"descriptions\"],\n",
    "    \"title\": \"THE #type.uppercase#\",\n",
    "    \"shortDescription\": \"#type.capitalize# people's main traits are #t1# and #t2#. #heroThey.capitalize# are also #secondary_traits#\",\n",
    "    \"traits\": \"[t1:#buzzword#][t2:#buzzword#]\",\n",
    "    \"secondary_traits\": [\"#buzzword#, #buzzword#, and #buzzword#.\", \"#buzzword# and #buzzword#.\", \"#buzzword#.\"],\n",
    "    \"setPronouns\": [\"[heroThey:they][heroThem:them][heroTheir:their][heroTheirs:theirs]\",\"[heroThey:she][heroThem:her][heroTheir:her][heroTheirs:hers]\",\"[heroThey:he][heroThem:him][heroTheir:his][heroTheirs:his]\"],\n",
    "    \"buzzword\": buzzwords,\n",
    "    \"fears\": [\"Basic Fear: [f1:#fear.capitalize#]#f1#.\",\"Basic Fears: [f1:#fear.capitalize#]#f1# and #fear.lowercase#.\", \"Basic Fears: [f1:#fear.capitalize#]#f1#, #fear.lowercase#, and #fear.lowercase#.\"],\n",
    "    \"desires\": [\"Basic Desire: #desire.capitalize#.\",\"Basic Desires: #desire.capitalize# and #desire.lowercase#.\", \"Basic Desires: #desire.capitalize#, #desire.lowercase#, and #desire.lowercase#.\"],\n",
    "    \"fear\": fears,\n",
    "    \"desire\": desires,\n",
    "    \"summary\": \"#overview.uppercase#\\n#reason.capitalize# #heroTheir# #t2#, #type.a#\",\n",
    "    \"overview\": overview,\n",
    "    \"compatibility\": \"COMPATIBILITY\\n#reason.capitalize# #t2.lowercase# and #f1.lowercase#, #type.uppercase# is best suited with #descriptor.uppercase.a# type.\",\n",
    "    \"reason\": justification\n",
    "}\n",
    "\n",
    "grammar = tracery.Grammar(rules)\n",
    "## adding modifiers\n",
    "grammar.add_modifiers(base_english)\n",
    "story = grammar.flatten(\"#origin#\")\n",
    "# textwrap.fill(''.join(story), 60)\n",
    "print(story)"
   ]
  },
  {
   "cell_type": "code",
   "execution_count": 8,
   "id": "0ca57044",
   "metadata": {},
   "outputs": [
    {
     "name": "stdout",
     "output_type": "stream",
     "text": [
      "THE COLD\n",
      "\n",
      "Cold people's main traits are affirmation and illumination. They are also wealth and renewal.\n",
      "\n",
      "Basic Fears: Failing to take a stand, pandering to the tastes of others, and numbing yourself to spiritual yearnings.\n",
      "Basic Desire: Sharing in a great celebration.\n",
      "\n",
      "PRECIS\n",
      "As a consequence of their illumination, a cold\n",
      "\n",
      "COMPATIBILITY\n",
      "By reason of illumination and failing to take a stand, COLD is best suited with an AMAZING type.\n"
     ]
    }
   ],
   "source": [
    "rules = {\n",
    "    \"origin\": \"[#setPronouns#][#traits#][type:#descriptor#]#title#\\n\\n#shortDescription#\\n\\n#fears#\\n#desires#\\n\\n#summary#\\n\\n#compatibility#\",\n",
    "    \"descriptor\": descript[\"descriptions\"],\n",
    "    \"title\": \"THE #type.uppercase#\",\n",
    "    \"shortDescription\": \"#type.capitalize# people's main traits are #t1# and #t2#. #heroThey.capitalize# are also #secondary_traits#\",\n",
    "    \"traits\": \"[t1:#buzzword#][t2:#buzzword#]\",\n",
    "    \"secondary_traits\": [\"#buzzword#, #buzzword#, and #buzzword#.\", \"#buzzword# and #buzzword#.\", \"#buzzword#.\"],\n",
    "    \"setPronouns\": [\"[heroThey:they][heroThem:them][heroTheir:their][heroTheirs:theirs]\"],\n",
    "    \"buzzword\": buzzwords,\n",
    "    \"fears\": [\"Basic Fear: [f1:#fear.capitalize#]#f1#.\",\"Basic Fears: [f1:#fear.capitalize#]#f1# and #fear.lowercase#.\", \"Basic Fears: [f1:#fear.capitalize#]#f1#, #fear.lowercase#, and #fear.lowercase#.\"],\n",
    "    \"desires\": [\"Basic Desire: #desire.capitalize#.\",\"Basic Desires: #desire.capitalize# and #desire.lowercase#.\", \"Basic Desires: #desire.capitalize#, #desire.lowercase#, and #desire.lowercase#.\"],\n",
    "    \"fear\": fears,\n",
    "    \"desire\": desires,\n",
    "    \"summary\": \"#overview.uppercase#\\n#reason.capitalize# #heroTheir# #t2#, #type.a#\",\n",
    "    \"overview\": overview,\n",
    "    \"compatibility\": \"COMPATIBILITY\\n#reason.capitalize# #t2.lowercase# and #f1.lowercase#, #type.uppercase# is best suited with [c:#descriptor.uppercase#]#c.a# type.\",\n",
    "    \"reason\": justification\n",
    "}\n",
    "\n",
    "grammar = tracery.Grammar(rules)\n",
    "## adding modifiers\n",
    "grammar.add_modifiers(base_english)\n",
    "story = grammar.flatten(\"#origin#\")\n",
    "compat = grammar.flatten(\"#c#\")\n",
    "print(story)"
   ]
  },
  {
   "cell_type": "markdown",
   "id": "1376de78",
   "metadata": {},
   "source": [
    "# helping chaski w regex and keeping this for my notes\n",
    "\n",
    "[re python library](https://docs.python.org/3/library/re.html#match-objects)"
   ]
  },
  {
   "cell_type": "code",
   "execution_count": 9,
   "id": "38c86dd5",
   "metadata": {},
   "outputs": [
    {
     "data": {
      "text/plain": [
       "['See/',\n",
       " 'See ',\n",
       " 'also ',\n",
       " 'See ',\n",
       " 'See ',\n",
       " 'also ',\n",
       " 'See ',\n",
       " 'also ',\n",
       " 'See ',\n",
       " 'also ',\n",
       " 'See ',\n",
       " 'See ',\n",
       " 'also ']"
      ]
     },
     "execution_count": 9,
     "metadata": {},
     "output_type": "execute_result"
    }
   ],
   "source": [
    "import re\n",
    "\n",
    "ref = \"For the See/See also aesthetic dimension. See queer ecstasy, 24, 185–87; Heidegger, 25, 186. See also temporality Edelman, Lee, 11, 22, 88, 90–95 Fisher, Gary, xv; Gary in Your Pocket, 193–94, 196–97, 200–201, 205. See also “Race, Sex, and the Incommensurate: Gary Fisher with Eve Kosofsky Sedgwick” 101. See also queer politics. See “Race, Sex, and the Incommensurate: Gary Fisher with Eve Kosofsky Sedgwick” Sedgwick, Eve Kosofsky, xi, xv–xvi, 12. See also “Race, Sex, and the Incommensurate\"\n",
    "\n",
    "# this code uses regex to remove all instances of See, See/See, See also etc\n",
    "reg = \"See.|also \"\n",
    "# print(\"\".join(re.split(reg, ref)))\n",
    "re.findall(reg, ref)\n",
    "\n",
    "# this code only removes all 'See' in text\n",
    "# crossref = []\n",
    "# crossref = ref.split('See')\n",
    "# \"\".join(crossref)"
   ]
  },
  {
   "cell_type": "code",
   "execution_count": 10,
   "id": "c5bea1cd",
   "metadata": {},
   "outputs": [
    {
     "data": {
      "application/javascript": [
       "IPython.notebook.execute_cells_below()"
      ],
      "text/plain": [
       "<IPython.core.display.Javascript object>"
      ]
     },
     "metadata": {},
     "output_type": "display_data"
    },
    {
     "data": {
      "text/html": [
       "<body><p>THE EXCELLENT<br><br>Excellent people's main traits are conservation and student. They are also moodiness and skill.<br><br>Basic Fears: Obsessing on rules and regulations and ignoring or breaking agreements with those who have invested in you.<br>Basic Desire: Starting a savings plan.<br><br>SUMMARY<br>On the strength of their student, an EXCELLENT type enthralleds to asking for assistance. They are infuriated greatly.<br><br>COMPATIBILITY<br>As a result of student and obsessing on rules and regulations, EXCELLENT is best suited with an IMPETUOUS type.</p></body></html>"
      ],
      "text/plain": [
       "<IPython.core.display.HTML object>"
      ]
     },
     "metadata": {
      "isolated": true
     },
     "output_type": "display_data"
    },
    {
     "data": {
      "application/vnd.jupyter.widget-view+json": {
       "model_id": "481a124744f742258a226308800b3945",
       "version_major": 2,
       "version_minor": 0
      },
      "text/plain": [
       "Button(description='NEW PERSONALITY', style=ButtonStyle())"
      ]
     },
     "metadata": {},
     "output_type": "display_data"
    },
    {
     "data": {
      "text/html": [
       "<body><p>THE MEDDLESOME<br><br>Meddlesome people's main traits are decision and budgeting. They are also passion and meditation.<br><br>Basic Fears: Taking unnecessary risks, restricting access to spiritual truths or the gods, and failing to deliver what you've promised.<br>Basic Desire: Saving for a rainy day.<br><br>SUMMARY<br>On account of their budgeting, a MEDDLESOME type indecisives to refusing to think about unhealthy or unethical options. They are outraged greatly.<br><br>COMPATIBILITY<br>On the strength of budgeting and taking unnecessary risks, MEDDLESOME is best suited with a CARELESS type.</p></body></html>"
      ],
      "text/plain": [
       "<IPython.core.display.HTML object>"
      ]
     },
     "metadata": {
      "isolated": true
     },
     "output_type": "display_data"
    },
    {
     "data": {
      "application/vnd.jupyter.widget-view+json": {
       "model_id": "1b2d7ca386334b0791bd540e1f92e88b",
       "version_major": 2,
       "version_minor": 0
      },
      "text/plain": [
       "Button(description='NEW PERSONALITY', style=ButtonStyle())"
      ]
     },
     "metadata": {},
     "output_type": "display_data"
    }
   ],
   "source": [
    "rules = {\n",
    "        \"origin\": \"[#setPronouns#][#traits#][type:#descriptor#]#title#\\n\\n#shortDescription#\\n\\n#fears#\\n#desires#\\n\\n#summary#\\n\\n#compatibility#\",\n",
    "        \"descriptor\": descript[\"descriptions\"],\n",
    "        \"title\": \"THE #type.uppercase#\",\n",
    "        \"shortDescription\": \"#type.capitalize# people's main traits are #t1# and #t2#. #heroThey.capitalize# are also #secondary_traits#\",\n",
    "        \"traits\": \"[t1:#buzzword#][t2:#buzzword#]\",\n",
    "        \"secondary_traits\": [\"#buzzword#, #buzzword#, and #buzzword#.\", \"#buzzword# and #buzzword#.\", \"#buzzword#.\"],\n",
    "        \"setPronouns\": [\"[heroThey:they][heroThem:them][heroTheir:their][heroTheirs:theirs]\"],\n",
    "        \"buzzword\": buzzwords,\n",
    "        \"fears\": [\"Basic Fear: [f1:#fear.capitalize#]#f1#.\",\"Basic Fears: [f1:#fear.capitalize#]#f1# and #fear.lowercase#.\", \"Basic Fears: [f1:#fear.capitalize#]#f1#, #fear.lowercase#, and #fear.lowercase#.\"],\n",
    "        \"desires\": [\"Basic Desire: #desire.capitalize#.\",\"Basic Desires: #desire.capitalize# and #desire.lowercase#.\", \"Basic Desires: #desire.capitalize#, #desire.lowercase#, and #desire.lowercase#.\"],\n",
    "        \"fear\": fears,\n",
    "        \"desire\": desires,\n",
    "        \"summary\": \"SUMMARY\\n#reason.capitalize# #heroTheir# #t2#, #type.uppercase.a# type #mood.s# to #desire.lowercase#. They are #mood# greatly.\",\n",
    "        \"overview\": overview,\n",
    "        \"mood\": mood,\n",
    "        \"compatibility\": \"COMPATIBILITY\\n#reason.capitalize# #t2.lowercase# and #f1.lowercase#, #type.uppercase# is best suited with [c:#descriptor.uppercase#]#c.a# type.\",\n",
    "        \"reason\": justification,\n",
    "    }\n",
    "\n",
    "grammar = tracery.Grammar(rules)\n",
    "## adding modifiers\n",
    "grammar.add_modifiers(base_english)\n",
    "story = grammar.flatten(\"#origin#\")\n",
    "\n",
    "def run_all(ev):\n",
    "    display(Javascript('IPython.notebook.execute_cells_below()'))\n",
    "\n",
    "html_src = \"<body><p>\"+\"\".join(story).replace(\"\\n\", \"<br>\")+\"</p></body></html>\"\n",
    "show_html(html_src)\n",
    "button = widgets.Button(description=\"NEW PERSONALITY\")\n",
    "button.on_click(run_all)\n",
    "display(button)"
   ]
  },
  {
   "cell_type": "code",
   "execution_count": null,
   "id": "27d4c0a0",
   "metadata": {},
   "outputs": [],
   "source": []
  }
 ],
 "metadata": {
  "kernelspec": {
   "display_name": "Python 3 (ipykernel)",
   "language": "python",
   "name": "python3"
  },
  "language_info": {
   "codemirror_mode": {
    "name": "ipython",
    "version": 3
   },
   "file_extension": ".py",
   "mimetype": "text/x-python",
   "name": "python",
   "nbconvert_exporter": "python",
   "pygments_lexer": "ipython3",
   "version": "3.8.7"
  }
 },
 "nbformat": 4,
 "nbformat_minor": 5
}
