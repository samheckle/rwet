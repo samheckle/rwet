{
 "cells": [
  {
   "cell_type": "markdown",
   "id": "05245c6e",
   "metadata": {},
   "source": []
  },
  {
   "cell_type": "code",
   "execution_count": 43,
   "id": "eac3d8f8",
   "metadata": {},
   "outputs": [],
   "source": [
    "import tracery\n",
    "from tracery.modifiers import base_english"
   ]
  },
  {
   "cell_type": "code",
   "execution_count": 75,
   "id": "922b1f91",
   "metadata": {},
   "outputs": [],
   "source": [
    "import textwrap"
   ]
  },
  {
   "cell_type": "code",
   "execution_count": 116,
   "id": "76993827",
   "metadata": {},
   "outputs": [],
   "source": [
    "from IPython.display import display, HTML, Javascript\n",
    "def show_html(src):\n",
    "    return display(HTML(src), metadata=dict(isolated=True))"
   ]
  },
  {
   "cell_type": "code",
   "execution_count": 121,
   "id": "f29fbd3b",
   "metadata": {},
   "outputs": [],
   "source": [
    "from ipywidgets import widgets"
   ]
  },
  {
   "cell_type": "code",
   "execution_count": 176,
   "id": "1c6ea756",
   "metadata": {},
   "outputs": [],
   "source": [
    "# importing files\n",
    "import json\n",
    "with open('descriptions.json') as f:\n",
    "    descript = json.load(f)\n",
    "with open('moods.json') as f:\n",
    "    mood = json.load(f)[\"moods\"]\n",
    "with open('tarot_interpretations.json') as f:\n",
    "    interpret = json.load(f)\n",
    "\n",
    "# post-processing data\n",
    "buzzwords = []\n",
    "fears = []\n",
    "desires = []\n",
    "for i in interpret[\"tarot_interpretations\"]:\n",
    "    buzzwords.extend(i[\"keywords\"])\n",
    "    desires.extend(i[\"meanings\"][\"light\"])\n",
    "    fears.extend(i[\"meanings\"][\"shadow\"])\n"
   ]
  },
  {
   "cell_type": "code",
   "execution_count": 94,
   "id": "4523ebde",
   "metadata": {},
   "outputs": [],
   "source": [
    "overview = [\n",
    "    \"outline\",\n",
    "    \"sketch\",\n",
    "    \"rundown\",\n",
    "    \"run-through\",\n",
    "    \"notes\",\n",
    "    \"recap\",\n",
    "    \"summary\",\n",
    "    \"synopsis\",\n",
    "    \"precis\",\n",
    "    \"abstract\",\n",
    "    \"abridgment\",\n",
    "    \"digest\",\n",
    "    \"compendium\",\n",
    "    \"abbreviated version\",\n",
    "    \"wrap-up\",\n",
    "    \"summa\",\n",
    "    \"overview\"\n",
    "]\n",
    "justification = [\n",
    "    \"on account of\",\n",
    "    \"as a result of\",\n",
    "    \"as a consequence of\",\n",
    "    \"owing to\",\n",
    "    \"by reason of\",\n",
    "    \"on grounds of\",\n",
    "    \"by dint of\",\n",
    "    \"due to\",\n",
    "    \"thanks to\",\n",
    "    \"by virtue of\",\n",
    "    \"on the strength of\",\n",
    "    \"through\",\n",
    "    \"after\",\n",
    "    \"following\",\n",
    "    \"in the wake of\",\n",
    "]"
   ]
  },
  {
   "cell_type": "code",
   "execution_count": 104,
   "id": "628e5ac4",
   "metadata": {},
   "outputs": [
    {
     "name": "stdout",
     "output_type": "stream",
     "text": [
      "THE EVEN-TEMPERED\n",
      "\n",
      "Even-tempered people's main traits are validation and worry. They are also self-discipline, creation, and swiftness.\n",
      "\n",
      "Basic Fears: Looking for an opportunity to take offense, refusing to re-evaluate a schedule or program, even when it's clearly no longer appropriate, and refusing to do your part.\n",
      "Basic Desires: Getting all the facts and taking that critical first step.\n",
      "\n",
      "SKETCH\n",
      "After their worry, an even-tempered\n",
      "\n",
      "COMPATIBILITY\n",
      "By dint of worry and looking for an opportunity to take offense, EVEN-TEMPERED is best suited with a SOUR type.\n"
     ]
    }
   ],
   "source": [
    "rules = {\n",
    "    \"origin\": \"[#setPronouns#][#traits#][type:#descriptor#]#title#\\n\\n#shortDescription#\\n\\n#fears#\\n#desires#\\n\\n#summary#\\n\\n#compatibility#\",\n",
    "    \"descriptor\": descript[\"descriptions\"],\n",
    "    \"title\": \"THE #type.uppercase#\",\n",
    "    \"shortDescription\": \"#type.capitalize# people's main traits are #t1# and #t2#. #heroThey.capitalize# are also #secondary_traits#\",\n",
    "    \"traits\": \"[t1:#buzzword#][t2:#buzzword#]\",\n",
    "    \"secondary_traits\": [\"#buzzword#, #buzzword#, and #buzzword#.\", \"#buzzword# and #buzzword#.\", \"#buzzword#.\"],\n",
    "    \"setPronouns\": [\"[heroThey:they][heroThem:them][heroTheir:their][heroTheirs:theirs]\",\"[heroThey:she][heroThem:her][heroTheir:her][heroTheirs:hers]\",\"[heroThey:he][heroThem:him][heroTheir:his][heroTheirs:his]\"],\n",
    "    \"buzzword\": buzzwords,\n",
    "    \"fears\": [\"Basic Fear: [f1:#fear.capitalize#]#f1#.\",\"Basic Fears: [f1:#fear.capitalize#]#f1# and #fear.lowercase#.\", \"Basic Fears: [f1:#fear.capitalize#]#f1#, #fear.lowercase#, and #fear.lowercase#.\"],\n",
    "    \"desires\": [\"Basic Desire: #desire.capitalize#.\",\"Basic Desires: #desire.capitalize# and #desire.lowercase#.\", \"Basic Desires: #desire.capitalize#, #desire.lowercase#, and #desire.lowercase#.\"],\n",
    "    \"fear\": fears,\n",
    "    \"desire\": desires,\n",
    "    \"summary\": \"#overview.uppercase#\\n#reason.capitalize# #heroTheir# #t2#, #type.a#\",\n",
    "    \"overview\": overview,\n",
    "    \"compatibility\": \"COMPATIBILITY\\n#reason.capitalize# #t2.lowercase# and #f1.lowercase#, #type.uppercase# is best suited with #descriptor.uppercase.a# type.\",\n",
    "    \"reason\": justification\n",
    "}\n",
    "\n",
    "grammar = tracery.Grammar(rules)\n",
    "## adding modifiers\n",
    "grammar.add_modifiers(base_english)\n",
    "story = grammar.flatten(\"#origin#\")\n",
    "# textwrap.fill(''.join(story), 60)\n",
    "print(story)"
   ]
  },
  {
   "cell_type": "code",
   "execution_count": 166,
   "id": "b7d00105",
   "metadata": {},
   "outputs": [
    {
     "name": "stdout",
     "output_type": "stream",
     "text": [
      "THE CYNICAL\n",
      "\n",
      "Cynical people's main traits are wealth and investigation. They are also composure.\n",
      "\n",
      "Basic Fears: Rushing through your work, beating yourself up over past mistakes, and being so eager to \"do it yourself\" that you hinder your own progress.\n",
      "Basic Desires: Finding the silver lining in a dark cloud and indulging in romantic fantasy.\n",
      "\n",
      "ABRIDGMENT\n",
      "Owing to their investigation, a cynical\n",
      "\n",
      "COMPATIBILITY\n",
      "Through investigation and rushing through your work, CYNICAL is best suited with a NERVOUS type.\n"
     ]
    }
   ],
   "source": [
    "rules = {\n",
    "    \"origin\": \"[#setPronouns#][#traits#][type:#descriptor#]#title#\\n\\n#shortDescription#\\n\\n#fears#\\n#desires#\\n\\n#summary#\\n\\n#compatibility#\",\n",
    "    \"descriptor\": descript[\"descriptions\"],\n",
    "    \"title\": \"THE #type.uppercase#\",\n",
    "    \"shortDescription\": \"#type.capitalize# people's main traits are #t1# and #t2#. #heroThey.capitalize# are also #secondary_traits#\",\n",
    "    \"traits\": \"[t1:#buzzword#][t2:#buzzword#]\",\n",
    "    \"secondary_traits\": [\"#buzzword#, #buzzword#, and #buzzword#.\", \"#buzzword# and #buzzword#.\", \"#buzzword#.\"],\n",
    "    \"setPronouns\": [\"[heroThey:they][heroThem:them][heroTheir:their][heroTheirs:theirs]\"],\n",
    "    \"buzzword\": buzzwords,\n",
    "    \"fears\": [\"Basic Fear: [f1:#fear.capitalize#]#f1#.\",\"Basic Fears: [f1:#fear.capitalize#]#f1# and #fear.lowercase#.\", \"Basic Fears: [f1:#fear.capitalize#]#f1#, #fear.lowercase#, and #fear.lowercase#.\"],\n",
    "    \"desires\": [\"Basic Desire: #desire.capitalize#.\",\"Basic Desires: #desire.capitalize# and #desire.lowercase#.\", \"Basic Desires: #desire.capitalize#, #desire.lowercase#, and #desire.lowercase#.\"],\n",
    "    \"fear\": fears,\n",
    "    \"desire\": desires,\n",
    "    \"summary\": \"#overview.uppercase#\\n#reason.capitalize# #heroTheir# #t2#, #type.a#\",\n",
    "    \"overview\": overview,\n",
    "    \"compatibility\": \"COMPATIBILITY\\n#reason.capitalize# #t2.lowercase# and #f1.lowercase#, #type.uppercase# is best suited with [c:#descriptor.uppercase#]#c.a# type.\",\n",
    "    \"reason\": justification\n",
    "}\n",
    "\n",
    "grammar = tracery.Grammar(rules)\n",
    "## adding modifiers\n",
    "grammar.add_modifiers(base_english)\n",
    "story = grammar.flatten(\"#origin#\")\n",
    "compat = grammar.flatten(\"#c#\")\n",
    "print(story)"
   ]
  },
  {
   "cell_type": "markdown",
   "id": "8824b56e",
   "metadata": {},
   "source": [
    "# helping chaski w regex and keeping this for my notes\n",
    "\n",
    "[re python library](https://docs.python.org/3/library/re.html#match-objects)"
   ]
  },
  {
   "cell_type": "code",
   "execution_count": 136,
   "id": "38c86dd5",
   "metadata": {},
   "outputs": [
    {
     "data": {
      "text/plain": [
       "['See/',\n",
       " 'See ',\n",
       " 'also ',\n",
       " 'See ',\n",
       " 'See ',\n",
       " 'also ',\n",
       " 'See ',\n",
       " 'also ',\n",
       " 'See ',\n",
       " 'also ',\n",
       " 'See ',\n",
       " 'See ',\n",
       " 'also ']"
      ]
     },
     "execution_count": 136,
     "metadata": {},
     "output_type": "execute_result"
    }
   ],
   "source": [
    "import re\n",
    "\n",
    "ref = \"For the See/See also aesthetic dimension. See queer ecstasy, 24, 185–87; Heidegger, 25, 186. See also temporality Edelman, Lee, 11, 22, 88, 90–95 Fisher, Gary, xv; Gary in Your Pocket, 193–94, 196–97, 200–201, 205. See also “Race, Sex, and the Incommensurate: Gary Fisher with Eve Kosofsky Sedgwick” 101. See also queer politics. See “Race, Sex, and the Incommensurate: Gary Fisher with Eve Kosofsky Sedgwick” Sedgwick, Eve Kosofsky, xi, xv–xvi, 12. See also “Race, Sex, and the Incommensurate\"\n",
    "\n",
    "# this code uses regex to remove all instances of See, See/See, See also etc\n",
    "reg = \"See.|also \"\n",
    "# print(\"\".join(re.split(reg, ref)))\n",
    "re.findall(reg, ref)\n",
    "\n",
    "# this code only removes all 'See' in text\n",
    "# crossref = []\n",
    "# crossref = ref.split('See')\n",
    "# \"\".join(crossref)"
   ]
  },
  {
   "cell_type": "code",
   "execution_count": 181,
   "id": "9e4b6b8e",
   "metadata": {},
   "outputs": [
    {
     "data": {
      "text/html": [
       "<body><p>THE BEAUTIFUL<br><br>Beautiful people's main traits are productivity and mindset. They are also spirituality, bravery, and hope.<br><br>Basic Fears: Using your creativity to get out of honest work and being sexually selfish.<br>Basic Desire: Reaching a beneficial agreement based on sound information.<br><br>SUMMARY<br>By reason of their mindset, a BEAUTIFUL type gloomies to acknowledging that you've hit bottom. They are dismayed greatly.<br><br>COMPATIBILITY<br>Following mindset and using your creativity to get out of honest work, BEAUTIFUL is best suited with a DEFT type.</p></body></html>"
      ],
      "text/plain": [
       "<IPython.core.display.HTML object>"
      ]
     },
     "metadata": {
      "isolated": true
     },
     "output_type": "display_data"
    },
    {
     "data": {
      "application/vnd.jupyter.widget-view+json": {
       "model_id": "a1e4824f456246dbb025e63a3e40a16c",
       "version_major": 2,
       "version_minor": 0
      },
      "text/plain": [
       "Button(description='NEW PERSONALITY', style=ButtonStyle())"
      ]
     },
     "metadata": {},
     "output_type": "display_data"
    }
   ],
   "source": [
    "rules = {\n",
    "        \"origin\": \"[#setPronouns#][#traits#][type:#descriptor#]#title#\\n\\n#shortDescription#\\n\\n#fears#\\n#desires#\\n\\n#summary#\\n\\n#compatibility#\",\n",
    "        \"descriptor\": descript[\"descriptions\"],\n",
    "        \"title\": \"THE #type.uppercase#\",\n",
    "        \"shortDescription\": \"#type.capitalize# people's main traits are #t1# and #t2#. #heroThey.capitalize# are also #secondary_traits#\",\n",
    "        \"traits\": \"[t1:#buzzword#][t2:#buzzword#]\",\n",
    "        \"secondary_traits\": [\"#buzzword#, #buzzword#, and #buzzword#.\", \"#buzzword# and #buzzword#.\", \"#buzzword#.\"],\n",
    "        \"setPronouns\": [\"[heroThey:they][heroThem:them][heroTheir:their][heroTheirs:theirs]\"],\n",
    "        \"buzzword\": buzzwords,\n",
    "        \"fears\": [\"Basic Fear: [f1:#fear.capitalize#]#f1#.\",\"Basic Fears: [f1:#fear.capitalize#]#f1# and #fear.lowercase#.\", \"Basic Fears: [f1:#fear.capitalize#]#f1#, #fear.lowercase#, and #fear.lowercase#.\"],\n",
    "        \"desires\": [\"Basic Desire: #desire.capitalize#.\",\"Basic Desires: #desire.capitalize# and #desire.lowercase#.\", \"Basic Desires: #desire.capitalize#, #desire.lowercase#, and #desire.lowercase#.\"],\n",
    "        \"fear\": fears,\n",
    "        \"desire\": desires,\n",
    "        \"summary\": \"SUMMARY\\n#reason.capitalize# #heroTheir# #t2#, #type.uppercase.a# type #mood.s# to #desire.lowercase#. They are #mood# greatly.\",\n",
    "        \"overview\": overview,\n",
    "        \"mood\": mood,\n",
    "        \"compatibility\": \"COMPATIBILITY\\n#reason.capitalize# #t2.lowercase# and #f1.lowercase#, #type.uppercase# is best suited with [c:#descriptor.uppercase#]#c.a# type.\",\n",
    "        \"reason\": justification,\n",
    "    }\n",
    "\n",
    "grammar = tracery.Grammar(rules)\n",
    "## adding modifiers\n",
    "grammar.add_modifiers(base_english)\n",
    "story = grammar.flatten(\"#origin#\")\n",
    "\n",
    "def run_all(ev):\n",
    "    display(Javascript('IPython.notebook.execute_cells_below()'))\n",
    "\n",
    "html_src = \"<body><p>\"+\"\".join(story).replace(\"\\n\", \"<br>\")+\"</p></body></html>\"\n",
    "show_html(html_src)\n",
    "button = widgets.Button(description=\"NEW PERSONALITY\")\n",
    "button.on_click(run_all)\n",
    "display(button)"
   ]
  },
  {
   "cell_type": "code",
   "execution_count": null,
   "id": "27d4c0a0",
   "metadata": {},
   "outputs": [],
   "source": []
  }
 ],
 "metadata": {
  "kernelspec": {
   "display_name": "Python 3 (ipykernel)",
   "language": "python",
   "name": "python3"
  },
  "language_info": {
   "codemirror_mode": {
    "name": "ipython",
    "version": 3
   },
   "file_extension": ".py",
   "mimetype": "text/x-python",
   "name": "python",
   "nbconvert_exporter": "python",
   "pygments_lexer": "ipython3",
   "version": "3.8.7"
  }
 },
 "nbformat": 4,
 "nbformat_minor": 5
}
