{
 "cells": [
  {
   "cell_type": "markdown",
   "id": "c08304d5",
   "metadata": {},
   "source": [
    "# strings and expressions\n",
    "\n",
    "expression -> evaluate -> value"
   ]
  },
  {
   "cell_type": "code",
   "execution_count": 1,
   "id": "503e62ae",
   "metadata": {},
   "outputs": [
    {
     "data": {
      "text/plain": [
       "6"
      ]
     },
     "execution_count": 1,
     "metadata": {},
     "output_type": "execute_result"
    }
   ],
   "source": [
    "5+1"
   ]
  },
  {
   "cell_type": "markdown",
   "id": "099fb293",
   "metadata": {},
   "source": [
    "# expressions of inequality"
   ]
  },
  {
   "cell_type": "code",
   "execution_count": 2,
   "id": "97ed8a2f",
   "metadata": {},
   "outputs": [
    {
     "data": {
      "text/plain": [
       "True"
      ]
     },
     "execution_count": 2,
     "metadata": {},
     "output_type": "execute_result"
    }
   ],
   "source": [
    "3*5==9+6"
   ]
  },
  {
   "cell_type": "code",
   "execution_count": 3,
   "id": "e5166752",
   "metadata": {},
   "outputs": [
    {
     "data": {
      "text/plain": [
       "False"
      ]
     },
     "execution_count": 3,
     "metadata": {},
     "output_type": "execute_result"
    }
   ],
   "source": [
    "20 == 7*3"
   ]
  },
  {
   "cell_type": "markdown",
   "id": "a5305858",
   "metadata": {},
   "source": [
    "<, >, <=, >=, !="
   ]
  },
  {
   "cell_type": "markdown",
   "id": "d4cd1881",
   "metadata": {},
   "source": [
    "# variables"
   ]
  },
  {
   "cell_type": "code",
   "execution_count": 4,
   "id": "148d8c2b",
   "metadata": {},
   "outputs": [],
   "source": [
    "x = (4+5) *6"
   ]
  },
  {
   "cell_type": "markdown",
   "id": "fdf9d839",
   "metadata": {},
   "source": [
    "# types"
   ]
  },
  {
   "cell_type": "code",
   "execution_count": 5,
   "id": "67ca2c4d",
   "metadata": {},
   "outputs": [
    {
     "data": {
      "text/plain": [
       "int"
      ]
     },
     "execution_count": 5,
     "metadata": {},
     "output_type": "execute_result"
    }
   ],
   "source": [
    "type(100+1)"
   ]
  },
  {
   "cell_type": "code",
   "execution_count": 8,
   "id": "e4885578",
   "metadata": {},
   "outputs": [
    {
     "data": {
      "text/plain": [
       "float"
      ]
     },
     "execution_count": 8,
     "metadata": {},
     "output_type": "execute_result"
    }
   ],
   "source": [
    "type(3.14)"
   ]
  },
  {
   "cell_type": "markdown",
   "id": "4cac36d9",
   "metadata": {},
   "source": [
    "# strings"
   ]
  },
  {
   "cell_type": "code",
   "execution_count": 9,
   "id": "6761baa6",
   "metadata": {},
   "outputs": [],
   "source": [
    "# from gertude stein, wrote language that feels computational\n",
    "roast_beef = \"suppose there is a pigeon, suppose there is.\""
   ]
  },
  {
   "cell_type": "code",
   "execution_count": 10,
   "id": "22f419c1",
   "metadata": {},
   "outputs": [
    {
     "data": {
      "text/plain": [
       "str"
      ]
     },
     "execution_count": 10,
     "metadata": {},
     "output_type": "execute_result"
    }
   ],
   "source": [
    "type(roast_beef)"
   ]
  },
  {
   "cell_type": "code",
   "execution_count": 12,
   "id": "3ae044f8",
   "metadata": {},
   "outputs": [
    {
     "data": {
      "text/plain": [
       "44"
      ]
     },
     "execution_count": 12,
     "metadata": {},
     "output_type": "execute_result"
    }
   ],
   "source": [
    "len(roast_beef)"
   ]
  },
  {
   "cell_type": "code",
   "execution_count": 13,
   "id": "a0958975",
   "metadata": {},
   "outputs": [
    {
     "data": {
      "text/plain": [
       "True"
      ]
     },
     "execution_count": 13,
     "metadata": {},
     "output_type": "execute_result"
    }
   ],
   "source": [
    "\"the\" in roast_beef"
   ]
  },
  {
   "cell_type": "code",
   "execution_count": 15,
   "id": "c37980c6",
   "metadata": {},
   "outputs": [
    {
     "data": {
      "text/plain": [
       "True"
      ]
     },
     "execution_count": 15,
     "metadata": {},
     "output_type": "execute_result"
    }
   ],
   "source": [
    "\"foodie\".startswith(\"foo\")"
   ]
  },
  {
   "cell_type": "code",
   "execution_count": 16,
   "id": "e7639029",
   "metadata": {},
   "outputs": [
    {
     "data": {
      "text/plain": [
       "True"
      ]
     },
     "execution_count": 16,
     "metadata": {},
     "output_type": "execute_result"
    }
   ],
   "source": [
    "\"STRONGLY\".isupper()"
   ]
  },
  {
   "cell_type": "code",
   "execution_count": 17,
   "id": "776105bd",
   "metadata": {},
   "outputs": [
    {
     "data": {
      "text/plain": [
       "'SUPPOSE THERE IS A PIGEON, SUPPOSE THERE IS.'"
      ]
     },
     "execution_count": 17,
     "metadata": {},
     "output_type": "execute_result"
    }
   ],
   "source": [
    "roast_beef.upper()"
   ]
  },
  {
   "cell_type": "code",
   "execution_count": 19,
   "id": "df1d3a00",
   "metadata": {},
   "outputs": [
    {
     "name": "stdout",
     "output_type": "stream",
     "text": [
      "yelling\n"
     ]
    }
   ],
   "source": [
    "print(\"YELLING\".lower())"
   ]
  },
  {
   "cell_type": "code",
   "execution_count": 20,
   "id": "cd053476",
   "metadata": {},
   "outputs": [
    {
     "data": {
      "text/plain": [
       "'strugg'"
      ]
     },
     "execution_count": 20,
     "metadata": {},
     "output_type": "execute_result"
    }
   ],
   "source": [
    "\"  strugg  \".strip()"
   ]
  },
  {
   "cell_type": "code",
   "execution_count": 21,
   "id": "aaf87cfe",
   "metadata": {},
   "outputs": [
    {
     "data": {
      "text/plain": [
       "'suppose i have always wanted a pigeon, suppose i have always wanted.'"
      ]
     },
     "execution_count": 21,
     "metadata": {},
     "output_type": "execute_result"
    }
   ],
   "source": [
    "roast_beef.replace(\"there is\", \"i have always wanted\")"
   ]
  },
  {
   "cell_type": "code",
   "execution_count": 22,
   "id": "fa8cc804",
   "metadata": {},
   "outputs": [
    {
     "data": {
      "text/plain": [
       "'suppose there is a pigeon, suppose there is.'"
      ]
     },
     "execution_count": 22,
     "metadata": {},
     "output_type": "execute_result"
    }
   ],
   "source": [
    "roast_beef"
   ]
  },
  {
   "cell_type": "markdown",
   "id": "9c9e636b",
   "metadata": {},
   "source": [
    "# string indexing"
   ]
  },
  {
   "cell_type": "code",
   "execution_count": 23,
   "id": "48471c74",
   "metadata": {},
   "outputs": [],
   "source": [
    "message = \"bungalow\""
   ]
  },
  {
   "cell_type": "code",
   "execution_count": 24,
   "id": "8e4aea8f",
   "metadata": {},
   "outputs": [
    {
     "data": {
      "text/plain": [
       "'l'"
      ]
     },
     "execution_count": 24,
     "metadata": {},
     "output_type": "execute_result"
    }
   ],
   "source": [
    "message[5]"
   ]
  },
  {
   "cell_type": "code",
   "execution_count": 25,
   "id": "b4d864b6",
   "metadata": {},
   "outputs": [
    {
     "data": {
      "text/plain": [
       "'w'"
      ]
     },
     "execution_count": 25,
     "metadata": {},
     "output_type": "execute_result"
    }
   ],
   "source": [
    "# last character -- negatives start at the end\n",
    "message[-1]"
   ]
  },
  {
   "cell_type": "code",
   "execution_count": 26,
   "id": "735a58ed",
   "metadata": {},
   "outputs": [
    {
     "data": {
      "text/plain": [
       "'nga'"
      ]
     },
     "execution_count": 26,
     "metadata": {},
     "output_type": "execute_result"
    }
   ],
   "source": [
    "message[2:5]"
   ]
  },
  {
   "cell_type": "code",
   "execution_count": null,
   "id": "02ba0871",
   "metadata": {},
   "outputs": [],
   "source": []
  }
 ],
 "metadata": {
  "kernelspec": {
   "display_name": "Python 3 (ipykernel)",
   "language": "python",
   "name": "python3"
  },
  "language_info": {
   "codemirror_mode": {
    "name": "ipython",
    "version": 3
   },
   "file_extension": ".py",
   "mimetype": "text/x-python",
   "name": "python",
   "nbconvert_exporter": "python",
   "pygments_lexer": "ipython3",
   "version": "3.8.7"
  }
 },
 "nbformat": 4,
 "nbformat_minor": 5
}
