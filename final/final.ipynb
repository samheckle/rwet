{
 "cells": [
  {
   "cell_type": "code",
   "execution_count": 10,
   "id": "3c1444e0",
   "metadata": {},
   "outputs": [
    {
     "name": "stdout",
     "output_type": "stream",
     "text": [
      " gig   was              the   road;       was           Mr.   McGregor,         and   \n"
     ]
    }
   ],
   "source": [
    "import random\n",
    "import textwrap\n",
    "\n",
    "lines = []\n",
    "for line in open(\"tale_of_benjamin_bunny.txt\"):\n",
    "    words = line.split() \n",
    "    output = [] \n",
    "    sel = random.sample(words, random.randint(0,len(words)))\n",
    "    \n",
    "    for item in words:\n",
    "        if item in sel:\n",
    "            output.append(item)\n",
    "        for char in item:\n",
    "            output.append(' ')\n",
    "    lines.append(''.join(output))\n",
    "print(lines[4])"
   ]
  },
  {
   "cell_type": "code",
   "execution_count": 11,
   "id": "a2a42154",
   "metadata": {},
   "outputs": [
    {
     "name": "stdout",
     "output_type": "stream",
     "text": [
      "gig was coming it was Mr. and \n"
     ]
    }
   ],
   "source": [
    "import random\n",
    "\n",
    "lines = []\n",
    "\n",
    "for line in open(\"tale_of_benjamin_bunny.txt\"):\n",
    "    words = line.split() \n",
    "    output = [] \n",
    "    sel = random.sample(words, random.randint(0,len(words)))\n",
    "    \n",
    "    for item in words:\n",
    "        if item in sel:\n",
    "            output.append(item + ' ')\n",
    "    lines.append(''.join(output))\n",
    "print(lines[4])"
   ]
  },
  {
   "cell_type": "code",
   "execution_count": 27,
   "id": "20ef51d4",
   "metadata": {},
   "outputs": [],
   "source": [
    "lines = list(filter(lambda x: x != '', lines))\n",
    "lines = list(filter(lambda x: x != \"\", lines))"
   ]
  },
  {
   "cell_type": "code",
   "execution_count": 28,
   "id": "10b75d22",
   "metadata": {},
   "outputs": [
    {
     "name": "stdout",
     "output_type": "stream",
     "text": [
      "['morning a rabbit sat on a ', 'He pricked and listened trit-trot, pony. ', 'gig was coming it was Mr. and ', 'bonnet. ', 'AS soon as they had passed, little Benjamin Bunny slid down into the ', 'and a hop, and a jump--to his ', \"relations, at McGregor's \", 'THAT wood was full of rabbit and in the sandiest hole of ', 'Cotton-tail ', 'earned her ', 'mittens and muffetees (I once bought a pair at a bazaar). ', 'herbs, and rosemary tea, and rabbit-tobacco is ', 'WE call lavender). ', 'Benjamin did not very much see his ', 'came the of the nearly the ', 'Peter. ', 'garden,\" ', 'had the and had and ', 'coat. ', 'Little Benjamin sat down beside his cousin, and assured him that Mr. ', 'McGregor had out a and Mrs. McGregor also; and certainly ', 'would ', \"At this point, Rabbit's voice was heard the rabbit hole \", 'fetch ', 'walk. ', 'THEY went away in hand, and got upon the flat top of the wall ', \"the bottom of the wood. From here they looked down Mr. McGregor's \", 'upon ', \"with an McGregor's. \", 'LITTLE Benjamin spoils to squeeze under a ', 'way get down pear ', 'Peter fell down head first; but it was of no consequence, as the bed ', 'below newly raked and quite ', 'IT had been sown with lettuces. ', 'great odd little foot-marks all over bed, ', 'thing ', 'order they might able use pocket ', 'handkerchief. ', 'them the There had been during the night; ', 'there was water in the shoes, the coat was somewhat ', 'Benjamin tried the tam-o-shanter, but it was too big for him. ', 'THEN he suggested that they should fill the pocket-handkerchief with ', 'onions, little present for ', 'did not to enjoying himself; noises. ', 'Benjamin, on the contrary, perfectly at home, and ', 'leaf. He said that he was in the habit coming to the garden with his ', 'to get lettuces for their dinner. ', 'Bunny.) ', 'certainly were very fine. ', 'PETER did not eat anything; he he should like to go home. ', 'the ', 'said was back ', 'pear-tree, of ', 'on ', 'red-brick wall. ', 'The mice sat on their cracking cherry-stones, winked ', 'Rabbit and Benjamin ', 'PRESENTLY the pocket-handkerchief ', 'THEY got amongst flower-pots, and and tubs; Peter heard noises ', 'worse than ever, his were as big as lolly-pops! ', 'front ', 'is those saw that ', 'and then, in half ', 'he Peter onions underneath ', 'and and came and sniffed the ', 'Perhaps she liked the of onions! ', 'the the basket. ', '* * * * * ', 'because it was quite dark, and because the smell of was fearful; ', 'it Peter Rabbit little Benjamin ', 'sun behind the wood, and it quite late in the ', 'afternoon; but still the cat sat upon the basket. ', 'AT length there was pitter-patter, pitter-patter, and of ', 'mortar fell from the ', 'of the of the ', 'pipe rabbit-tobacco, ', 'He looking for his son. ', 'a tremendous the top of the wall the top of the ', 'and it the basket, and kicked it into the ', 'handful of ', 'The was much surprised scratch ', 'WHEN old Mr. Bunny had driven the cat into the he locked ', 'the ', 'Then he back to the basket and took out his Benjamin by the ', 'and whipped with ', 'Peter. ', 'out of out of ', 'which ', 'It looked as though some person had been walking all over the garden in ', 'foot-marks ', 'could not understand cat could have managed to shut ', 'OUTSIDE. ', 'WHEN Peter got home, his forgave him, because she so glad to ', 'see that he found his shoes and coat. Cotton-tail and folded ', 'up the and old Mrs. Rabbit up the onions and ', 'them from kitchen ', 'END ']\n"
     ]
    }
   ],
   "source": [
    "print(lines)"
   ]
  },
  {
   "cell_type": "code",
   "execution_count": 40,
   "id": "00cf2320",
   "metadata": {},
   "outputs": [],
   "source": [
    "import json\n",
    "\n",
    "\n",
    "# for line in lines:\n",
    "#     response = json.dumps(line)\n",
    "response = json.dumps({'results': lines[0]})\n"
   ]
  },
  {
   "cell_type": "code",
   "execution_count": 42,
   "id": "e65d340f",
   "metadata": {},
   "outputs": [
    {
     "name": "stdout",
     "output_type": "stream",
     "text": [
      "{\n"
     ]
    }
   ],
   "source": [
    "print(response[0])"
   ]
  },
  {
   "cell_type": "code",
   "execution_count": null,
   "id": "f88f82ec",
   "metadata": {},
   "outputs": [],
   "source": []
  }
 ],
 "metadata": {
  "kernelspec": {
   "display_name": "Python 3 (ipykernel)",
   "language": "python",
   "name": "python3"
  },
  "language_info": {
   "codemirror_mode": {
    "name": "ipython",
    "version": 3
   },
   "file_extension": ".py",
   "mimetype": "text/x-python",
   "name": "python",
   "nbconvert_exporter": "python",
   "pygments_lexer": "ipython3",
   "version": "3.8.7"
  }
 },
 "nbformat": 4,
 "nbformat_minor": 5
}
