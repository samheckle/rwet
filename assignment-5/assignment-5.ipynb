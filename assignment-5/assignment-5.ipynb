{
 "cells": [
  {
   "cell_type": "markdown",
   "id": "591642ea",
   "metadata": {},
   "source": [
    "following allison parrish [original tutorial"
   ]
  },
  {
   "cell_type": "code",
   "execution_count": 1,
   "id": "bbdf254f",
   "metadata": {
    "collapsed": true
   },
   "outputs": [
    {
     "name": "stdout",
     "output_type": "stream",
     "text": [
      "Collecting markovify\n",
      "  Downloading markovify-0.9.4.tar.gz (27 kB)\n",
      "  Preparing metadata (setup.py) ... \u001b[?25ldone\n",
      "\u001b[?25hCollecting unidecode\n",
      "  Downloading Unidecode-1.3.4-py3-none-any.whl (235 kB)\n",
      "\u001b[2K     \u001b[38;2;114;156;31m━━━━━━━━━━━━━━━━━━━━━━━━━━━━━━━━━━━━━━━\u001b[0m \u001b[32m235.9/235.9 KB\u001b[0m \u001b[31m3.8 MB/s\u001b[0m eta \u001b[36m0:00:00\u001b[0mm eta \u001b[36m0:00:01\u001b[0m\n",
      "\u001b[?25hBuilding wheels for collected packages: markovify\n",
      "  Building wheel for markovify (setup.py) ... \u001b[?25ldone\n",
      "\u001b[?25h  Created wheel for markovify: filename=markovify-0.9.4-py3-none-any.whl size=18628 sha256=c3dac0f4d687ccadaad754db615302b0dfcf2d60c4ffaeafde551dc47777c3e0\n",
      "  Stored in directory: /Users/samheckle/Library/Caches/pip/wheels/aa/9d/bb/96461cbfde2120f3612c7c2af202976d46542735a2cd8b00f8\n",
      "Successfully built markovify\n",
      "Installing collected packages: unidecode, markovify\n",
      "Successfully installed markovify-0.9.4 unidecode-1.3.4\n"
     ]
    }
   ],
   "source": [
    "import sys\n",
    "!{\"/Users/samheckle/Documents/school/spring\\ 2022/env/bin/python3\"} -m pip install markovify"
   ]
  },
  {
   "cell_type": "code",
   "execution_count": 2,
   "id": "0c53f8ca",
   "metadata": {},
   "outputs": [],
   "source": [
    "import markovify"
   ]
  },
  {
   "cell_type": "code",
   "execution_count": 3,
   "id": "9d8eb321",
   "metadata": {},
   "outputs": [],
   "source": [
    "text_a = open(\"corpus.txt\").read()\n",
    "generator_a = markovify.Text(text_a)"
   ]
  },
  {
   "cell_type": "code",
   "execution_count": 4,
   "id": "463fc129",
   "metadata": {},
   "outputs": [
    {
     "name": "stdout",
     "output_type": "stream",
     "text": [
      "I relished the discomfort in a secret, perverse way, the way I relished the discomfort in a particular, powerful relation to one another and to us.\n"
     ]
    }
   ],
   "source": [
    "print(generator_a.make_sentence())"
   ]
  },
  {
   "cell_type": "code",
   "execution_count": 5,
   "id": "412df05c",
   "metadata": {},
   "outputs": [
    {
     "name": "stdout",
     "output_type": "stream",
     "text": [
      "order 1\n",
      "A book holds words.\n",
      "\n",
      "order 4\n",
      "But an object can’t be distorted in these ways.\n"
     ]
    }
   ],
   "source": [
    "gen_a_1 = markovify.Text(text_a, state_size=1)\n",
    "gen_a_4 = markovify.Text(text_a, state_size=4)\n",
    "print(\"order 1\")\n",
    "print(gen_a_1.make_sentence(test_output=False))\n",
    "print()\n",
    "print(\"order 4\")\n",
    "print(gen_a_4.make_sentence(test_output=False))"
   ]
  },
  {
   "cell_type": "code",
   "execution_count": 6,
   "id": "4b5ea848",
   "metadata": {},
   "outputs": [],
   "source": [
    "class SentencesByChar(markovify.Text):\n",
    "    def word_split(self, sentence):\n",
    "        return list(sentence)\n",
    "    def word_join(self, words):\n",
    "        return \"\".join(words)"
   ]
  },
  {
   "cell_type": "code",
   "execution_count": 8,
   "id": "ee6a3066",
   "metadata": {},
   "outputs": [
    {
     "name": "stdout",
     "output_type": "stream",
     "text": [
      "What vision of selfhood is suggested: porous and unoriginal.\n"
     ]
    }
   ],
   "source": [
    "gen_a_char = SentencesByChar(text_a, state_size=7)\n",
    "print(gen_a_char.make_sentence(test_output=False).replace(\"\\n\", \" \"))"
   ]
  },
  {
   "cell_type": "code",
   "execution_count": 9,
   "id": "10c37197",
   "metadata": {},
   "outputs": [
    {
     "ename": "NameError",
     "evalue": "name 'text_b' is not defined",
     "output_type": "error",
     "traceback": [
      "\u001b[0;31m---------------------------------------------------------------------------\u001b[0m",
      "\u001b[0;31mNameError\u001b[0m                                 Traceback (most recent call last)",
      "Input \u001b[0;32mIn [9]\u001b[0m, in \u001b[0;36m<module>\u001b[0;34m\u001b[0m\n\u001b[1;32m     12\u001b[0m model_cls \u001b[38;5;241m=\u001b[39m markovify\u001b[38;5;241m.\u001b[39mText \u001b[38;5;28;01mif\u001b[39;00m level \u001b[38;5;241m==\u001b[39m \u001b[38;5;124m\"\u001b[39m\u001b[38;5;124mword\u001b[39m\u001b[38;5;124m\"\u001b[39m \u001b[38;5;28;01melse\u001b[39;00m SentencesByChar\n\u001b[1;32m     13\u001b[0m gen_a \u001b[38;5;241m=\u001b[39m model_cls(text_a, state_size\u001b[38;5;241m=\u001b[39morder)\n\u001b[0;32m---> 14\u001b[0m gen_b \u001b[38;5;241m=\u001b[39m model_cls(\u001b[43mtext_b\u001b[49m, state_size\u001b[38;5;241m=\u001b[39morder)\n\u001b[1;32m     15\u001b[0m gen_combo \u001b[38;5;241m=\u001b[39m markovify\u001b[38;5;241m.\u001b[39mcombine([gen_a, gen_b], weights)\n\u001b[1;32m     16\u001b[0m \u001b[38;5;28;01mfor\u001b[39;00m i \u001b[38;5;129;01min\u001b[39;00m \u001b[38;5;28mrange\u001b[39m(output_n):\n",
      "\u001b[0;31mNameError\u001b[0m: name 'text_b' is not defined"
     ]
    }
   ],
   "source": [
    "# change to \"word\" for a word-level model\n",
    "level = \"char\"\n",
    "# controls the length of the n-gram\n",
    "order = 7\n",
    "# controls the number of lines to output\n",
    "output_n = 14\n",
    "# weights between the models; text A first, text B second.\n",
    "# if you want to completely exclude one model, set its corresponding value to 0\n",
    "weights = [0.5, 0.5]\n",
    "# limit sentence output to this number of characters\n",
    "length_limit = 280\n",
    "model_cls = markovify.Text if level == \"word\" else SentencesByChar\n",
    "gen_a = model_cls(text_a, state_size=order)\n",
    "gen_b = model_cls(text_b, state_size=order)\n",
    "gen_combo = markovify.combine([gen_a, gen_b], weights)\n",
    "for i in range(output_n):\n",
    "    out = gen_combo.make_short_sentence(length_limit, test_output=False)\n",
    "    out = out.replace(\"\\n\", \" \")\n",
    "    print(out)\n",
    "    print()"
   ]
  }
 ],
 "metadata": {
  "kernelspec": {
   "display_name": "Python 3 (ipykernel)",
   "language": "python",
   "name": "python3"
  },
  "language_info": {
   "codemirror_mode": {
    "name": "ipython",
    "version": 3
   },
   "file_extension": ".py",
   "mimetype": "text/x-python",
   "name": "python",
   "nbconvert_exporter": "python",
   "pygments_lexer": "ipython3",
   "version": "3.8.7"
  }
 },
 "nbformat": 4,
 "nbformat_minor": 5
}
