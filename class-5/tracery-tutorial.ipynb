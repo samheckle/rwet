{
 "cells": [
  {
   "cell_type": "markdown",
   "id": "f02c108d",
   "metadata": {},
   "source": [
    "# tracery\n",
    "\n",
    "install directory via pip install tracery\n",
    "\n",
    "this can be done within jupyter notebook as:\n",
    "```\n",
    "import sys\n",
    "!{sys.executable} -m pip install tracery\n",
    "```\n",
    "\n",
    "but since venv install via terminal "
   ]
  },
  {
   "cell_type": "code",
   "execution_count": 2,
   "id": "ed47d969",
   "metadata": {},
   "outputs": [],
   "source": [
    "import tracery"
   ]
  },
  {
   "cell_type": "markdown",
   "id": "ee3be388",
   "metadata": {},
   "source": [
    "# first tracery grammar\n",
    "just a python dictionary\n",
    "\n",
    "every tracery grammar is a series of rules and expansions:\n",
    "* rules = keys of dictionary\n",
    "* expansions = values of dictionary"
   ]
  },
  {
   "cell_type": "code",
   "execution_count": 3,
   "id": "d9c0b2b7",
   "metadata": {},
   "outputs": [
    {
     "data": {
      "text/plain": [
       "'Hello world!'"
      ]
     },
     "execution_count": 3,
     "metadata": {},
     "output_type": "execute_result"
    }
   ],
   "source": [
    "rules = {\n",
    "    \"origin\": \"Hello world!\"\n",
    "}\n",
    "\n",
    "grammar = tracery.Grammar(rules)\n",
    "\n",
    "# flatten and expand mean the same thing in tracery\n",
    "grammar.flatten(\"#origin#\") "
   ]
  },
  {
   "cell_type": "code",
   "execution_count": 5,
   "id": "b6310d09",
   "metadata": {},
   "outputs": [
    {
     "data": {
      "text/plain": [
       "'Hello galaxy!'"
      ]
     },
     "execution_count": 5,
     "metadata": {},
     "output_type": "execute_result"
    }
   ],
   "source": [
    "# when tracery finds a # it looks for replacement throughout the entire code\n",
    "rules = {\n",
    "    \"origin\": \"Hello #noun#!\",\n",
    "    \"noun\": \"galaxy\"\n",
    "}\n",
    "\n",
    "grammar = tracery.Grammar(rules)\n",
    "\n",
    "# flatten and expand mean the same thing in tracery\n",
    "grammar.flatten(\"#origin#\") "
   ]
  },
  {
   "cell_type": "code",
   "execution_count": 6,
   "id": "616300a1",
   "metadata": {},
   "outputs": [
    {
     "data": {
      "text/plain": [
       "'Howdy galaxy!'"
      ]
     },
     "execution_count": 6,
     "metadata": {},
     "output_type": "execute_result"
    }
   ],
   "source": [
    "# when tracery finds a # it looks for replacement throughout the entire code\n",
    "rules = {\n",
    "    \"origin\": \"#greeting# #noun#!\",\n",
    "    \"noun\": \"galaxy\",\n",
    "    \"greeting\": \"Howdy\"\n",
    "}\n",
    "\n",
    "grammar = tracery.Grammar(rules)\n",
    "\n",
    "# flatten and expand mean the same thing in tracery\n",
    "grammar.flatten(\"#origin#\") "
   ]
  },
  {
   "cell_type": "markdown",
   "id": "4ff12085",
   "metadata": {},
   "source": [
    "grammar is compressed representation of an entire language of outputs \n",
    "\n",
    "rules should be able to have many different outputs\n",
    "\n",
    "grammar is kernal"
   ]
  },
  {
   "cell_type": "code",
   "execution_count": 17,
   "id": "02af92cd",
   "metadata": {},
   "outputs": [
    {
     "data": {
      "text/plain": [
       "'hiiiiiiiiiii local cluster!'"
      ]
     },
     "execution_count": 17,
     "metadata": {},
     "output_type": "execute_result"
    }
   ],
   "source": [
    "# when tracery finds a # it looks for replacement throughout the entire code\n",
    "rules = {\n",
    "    \"origin\": \"#greeting# #noun#!\",\n",
    "    \"noun\": [\"galaxy\", \"solar system\", \"local cluster\", \"borough\", \"world\", \"municipality\"],\n",
    "    \"greeting\": [\"Howdy\", \"hello\", \"salutations\", \"hey\", \"ahoy\", \"hiiiiiiiiiii\"]\n",
    "}\n",
    "\n",
    "grammar = tracery.Grammar(rules)\n",
    "\n",
    "# flatten and expand mean the same thing in tracery\n",
    "grammar.flatten(\"#origin#\") "
   ]
  },
  {
   "cell_type": "markdown",
   "id": "b668efe0",
   "metadata": {},
   "source": [
    "## meme generator\n",
    "\n",
    "\"snowclone\"\n",
    "take a phrase and make fun of it\n",
    "satirizing phrase\n",
    "\n",
    "example phrase:\n",
    "Dammit Jim, I'm a doctor not a plumber!"
   ]
  },
  {
   "cell_type": "code",
   "execution_count": 19,
   "id": "e635b79c",
   "metadata": {},
   "outputs": [
    {
     "name": "stdout",
     "output_type": "stream",
     "text": [
      "((interjection)) ((name)), I'm a ((profession)) not a ((profession))!\n",
      "((interjection)) ((name)), I'm a ((profession)) not a ((profession))!\n",
      "((interjection)) ((name)), I'm a ((profession)) not a ((profession))!\n",
      "((interjection)) ((name)), I'm a ((profession)) not a ((profession))!\n",
      "((interjection)) ((name)), I'm a ((profession)) not a ((profession))!\n"
     ]
    }
   ],
   "source": [
    "# double paranthesis in the output means there is an undefined / incomplete rule\n",
    "rules = {\n",
    "    \"origin\": \"#interjection# #name#, I'm a #profession# not a #profession#!\"\n",
    "}\n",
    "grammar = tracery.Grammar(rules)\n",
    "for i in range(5):\n",
    "    print(grammar.flatten(\"#origin#\"))"
   ]
  },
  {
   "cell_type": "code",
   "execution_count": 21,
   "id": "429f3139",
   "metadata": {},
   "outputs": [
    {
     "name": "stdout",
     "output_type": "stream",
     "text": [
      "rats Steve, I'm a accountant not a poet!\n",
      "congradulations Kevin, I'm a sociologist not a new media artist!\n",
      "alas George, I'm a dancer not a dancer!\n",
      "umm George, I'm a curator not a graphic design!\n",
      "congradulations George, I'm a teacher not a teacher!\n"
     ]
    }
   ],
   "source": [
    "rules = {\n",
    "    \"origin\": \"#interjection# #name#, I'm a #profession# not a #profession#!\",\n",
    "    \"interjection\": [\"alas\", \"congradulations\", \"eureka\", \"fiddlesticks\", \"oops\", \"rats\", \"holy @&!%\", \"umm\"],\n",
    "    \"name\": [\"John\", \"Tom\", \"Steve\", \"Gary\", \"Dick\", \"George\", \"Kevin\"],\n",
    "    \"profession\": [\"accountant\", \"curator\", \"graphic design\", \"sociologist\", \"urban planner\", \"new media artist\", \"poet\", \"teacher\", \"dancer\"]\n",
    "}\n",
    "grammar = tracery.Grammar(rules)\n",
    "for i in range(5):\n",
    "    print(grammar.flatten(\"#origin#\"))"
   ]
  },
  {
   "cell_type": "markdown",
   "id": "a22ed52d",
   "metadata": {},
   "source": [
    "* capitalization\n",
    "* a/an\n",
    "* repetition"
   ]
  },
  {
   "cell_type": "code",
   "execution_count": 23,
   "id": "02c1fa76",
   "metadata": {},
   "outputs": [],
   "source": [
    "from tracery.modifiers import base_english"
   ]
  },
  {
   "cell_type": "code",
   "execution_count": 24,
   "id": "c317329b",
   "metadata": {},
   "outputs": [
    {
     "data": {
      "text/plain": [
       "dict_keys(['replace', 'capitalizeAll', 'capitalize', 'a', 'firstS', 's', 'ed', 'uppercase', 'lowercase'])"
      ]
     },
     "execution_count": 24,
     "metadata": {},
     "output_type": "execute_result"
    }
   ],
   "source": [
    "# list of modifiers\n",
    "base_english.keys()"
   ]
  },
  {
   "cell_type": "code",
   "execution_count": 25,
   "id": "e6d1da55",
   "metadata": {},
   "outputs": [
    {
     "name": "stdout",
     "output_type": "stream",
     "text": [
      "Fiddlesticks John, I'm a sociologist not a an urban planner!\n",
      "Rats Gary, I'm a teacher not a a sociologist!\n",
      "Alas Tom, I'm a new media artist not a a poet!\n",
      "Umm John, I'm an urban planner not a a graphic design!\n",
      "Fiddlesticks Gary, I'm an accountant not a an urban planner!\n"
     ]
    }
   ],
   "source": [
    "# adding modifiers using . on the rule that returns the expansion\n",
    "rules = {\n",
    "    \"origin\": \"#interjection.capitalize# #name#, I'm #profession.a# not a #profession.a#!\",\n",
    "    \"interjection\": [\"alas\", \"congradulations\", \"eureka\", \"fiddlesticks\", \"oops\", \"rats\", \"holy @&!%\", \"umm\"],\n",
    "    \"name\": [\"John\", \"Tom\", \"Steve\", \"Gary\", \"Dick\", \"George\", \"Kevin\"],\n",
    "    \"profession\": [\"accountant\", \"curator\", \"graphic design\", \"sociologist\", \"urban planner\", \"new media artist\", \"poet\", \"teacher\", \"dancer\"]\n",
    "}\n",
    "grammar = tracery.Grammar(rules)\n",
    "\n",
    "## adding modifiers\n",
    "grammar.add_modifiers(base_english)\n",
    "\n",
    "for i in range(5):\n",
    "    print(grammar.flatten(\"#origin#\"))"
   ]
  },
  {
   "cell_type": "code",
   "execution_count": 26,
   "id": "83f1d577",
   "metadata": {},
   "outputs": [
    {
     "name": "stdout",
     "output_type": "stream",
     "text": [
      "Fiddlesticks John, I'm a new media artist not a a sociologist!\n",
      "These aren't the graphic designs you're looking for.\n",
      "These aren't the dancers you're looking for.\n",
      "These aren't the new media artists you're looking for.\n",
      "These aren't the dancers you're looking for.\n"
     ]
    }
   ],
   "source": [
    "# adding another expansion to origin\n",
    "rules = {\n",
    "    \"origin\": [\n",
    "        \"#interjection.capitalize# #name#, I'm #profession.a# not a #profession.a#!\",\n",
    "        \"These aren't the #profession.s# you're looking for.\"\n",
    "    ],\n",
    "    \"interjection\": [\"alas\", \"congradulations\", \"eureka\", \"fiddlesticks\", \"oops\", \"rats\", \"holy @&!%\", \"umm\"],\n",
    "    \"name\": [\"John\", \"Tom\", \"Steve\", \"Gary\", \"Dick\", \"George\", \"Kevin\"],\n",
    "    \"profession\": [\"accountant\", \"curator\", \"graphic design\", \"sociologist\", \"urban planner\", \"new media artist\", \"poet\", \"teacher\", \"dancer\"]\n",
    "}\n",
    "grammar = tracery.Grammar(rules)\n",
    "grammar.add_modifiers(base_english)\n",
    "\n",
    "for i in range(5):\n",
    "    print(grammar.flatten(\"#origin#\"))"
   ]
  },
  {
   "cell_type": "code",
   "execution_count": 27,
   "id": "17038c94",
   "metadata": {},
   "outputs": [
    {
     "name": "stdout",
     "output_type": "stream",
     "text": [
      "These aren't the accountants you're looking for.\n",
      "These aren't the teachers you're looking for.\n",
      "These aren't the urban planners you're looking for.\n",
      "These aren't the sociologists you're looking for.\n",
      "Umm George, I'm an urban planner not a a sociologist!\n"
     ]
    }
   ],
   "source": [
    "# using variable for expansion\n",
    "my_professions = [\"accountant\", \"curator\", \"graphic design\", \"sociologist\", \"urban planner\", \"new media artist\", \"poet\", \"teacher\", \"dancer\"]\n",
    "rules = {\n",
    "    \"origin\": [\n",
    "        \"#interjection.capitalize# #name#, I'm #profession.a# not a #profession.a#!\",\n",
    "        \"These aren't the #profession.s# you're looking for.\"\n",
    "    ],\n",
    "    \"interjection\": [\"alas\", \"congradulations\", \"eureka\", \"fiddlesticks\", \"oops\", \"rats\", \"holy @&!%\", \"umm\"],\n",
    "    \"name\": [\"John\", \"Tom\", \"Steve\", \"Gary\", \"Dick\", \"George\", \"Kevin\"],\n",
    "    \"profession\": my_professions\n",
    "}\n",
    "grammar = tracery.Grammar(rules)\n",
    "grammar.add_modifiers(base_english)\n",
    "\n",
    "for i in range(5):\n",
    "    print(grammar.flatten(\"#origin#\"))"
   ]
  },
  {
   "cell_type": "markdown",
   "id": "4bbda88b",
   "metadata": {},
   "source": [
    "# rules within rules within rules"
   ]
  },
  {
   "cell_type": "code",
   "execution_count": null,
   "id": "cc1c219a",
   "metadata": {},
   "outputs": [],
   "source": [
    "rules = {\n",
    "    \"origin\": \"#nounphrase# #verbphrase\",\n",
    "    \"nounphrase\": [\"the #noun#\", \"#noun.a#\", \"the #noun# that #verbphrase#\"],\n",
    "    \"verbphrase\": [\"#verb#\", \"#verb# #nounphrase#\"],\n",
    "    \"noun\": [\"amoeba\", \"dichotomy\", \"seagull\", \"trombone\"],\n",
    "    \"verb\"\n",
    "}"
   ]
  }
 ],
 "metadata": {
  "kernelspec": {
   "display_name": "Python 3 (ipykernel)",
   "language": "python",
   "name": "python3"
  },
  "language_info": {
   "codemirror_mode": {
    "name": "ipython",
    "version": 3
   },
   "file_extension": ".py",
   "mimetype": "text/x-python",
   "name": "python",
   "nbconvert_exporter": "python",
   "pygments_lexer": "ipython3",
   "version": "3.8.7"
  }
 },
 "nbformat": 4,
 "nbformat_minor": 5
}
