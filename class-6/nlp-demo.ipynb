{
 "cells": [
  {
   "cell_type": "markdown",
   "id": "84057d59",
   "metadata": {},
   "source": [
    "https://spacy.io/usage\n",
    "\n",
    "https://github.com/aparrish/rwet/blob/master/nlp-concepts-with-spacy.ipynb"
   ]
  },
  {
   "cell_type": "code",
   "execution_count": 1,
   "id": "3ca111d2",
   "metadata": {},
   "outputs": [],
   "source": [
    "import spacy"
   ]
  },
  {
   "cell_type": "code",
   "execution_count": 11,
   "id": "a8066e05",
   "metadata": {},
   "outputs": [
    {
     "name": "stdout",
     "output_type": "stream",
     "text": [
      "Collecting en-core-web-md==3.2.0\n",
      "  Using cached https://github.com/explosion/spacy-models/releases/download/en_core_web_md-3.2.0/en_core_web_md-3.2.0-py3-none-any.whl (45.7 MB)\n",
      "Requirement already satisfied: spacy<3.3.0,>=3.2.0 in /Users/samheckle/Documents/school/spring 2022/env/lib/python3.8/site-packages (from en-core-web-md==3.2.0) (3.2.3)\n",
      "Requirement already satisfied: jinja2 in /Users/samheckle/Documents/school/spring 2022/env/lib/python3.8/site-packages (from spacy<3.3.0,>=3.2.0->en-core-web-md==3.2.0) (3.0.3)\n",
      "Requirement already satisfied: cymem<2.1.0,>=2.0.2 in /Users/samheckle/Documents/school/spring 2022/env/lib/python3.8/site-packages (from spacy<3.3.0,>=3.2.0->en-core-web-md==3.2.0) (2.0.6)\n",
      "Requirement already satisfied: spacy-loggers<2.0.0,>=1.0.0 in /Users/samheckle/Documents/school/spring 2022/env/lib/python3.8/site-packages (from spacy<3.3.0,>=3.2.0->en-core-web-md==3.2.0) (1.0.1)\n",
      "Requirement already satisfied: srsly<3.0.0,>=2.4.1 in /Users/samheckle/Documents/school/spring 2022/env/lib/python3.8/site-packages (from spacy<3.3.0,>=3.2.0->en-core-web-md==3.2.0) (2.4.2)\n",
      "Requirement already satisfied: wasabi<1.1.0,>=0.8.1 in /Users/samheckle/Documents/school/spring 2022/env/lib/python3.8/site-packages (from spacy<3.3.0,>=3.2.0->en-core-web-md==3.2.0) (0.9.0)\n",
      "Requirement already satisfied: spacy-legacy<3.1.0,>=3.0.8 in /Users/samheckle/Documents/school/spring 2022/env/lib/python3.8/site-packages (from spacy<3.3.0,>=3.2.0->en-core-web-md==3.2.0) (3.0.9)\n",
      "Requirement already satisfied: setuptools in /Users/samheckle/Documents/school/spring 2022/env/lib/python3.8/site-packages (from spacy<3.3.0,>=3.2.0->en-core-web-md==3.2.0) (60.9.3)\n",
      "Requirement already satisfied: langcodes<4.0.0,>=3.2.0 in /Users/samheckle/Documents/school/spring 2022/env/lib/python3.8/site-packages (from spacy<3.3.0,>=3.2.0->en-core-web-md==3.2.0) (3.3.0)\n",
      "Requirement already satisfied: typer<0.5.0,>=0.3.0 in /Users/samheckle/Documents/school/spring 2022/env/lib/python3.8/site-packages (from spacy<3.3.0,>=3.2.0->en-core-web-md==3.2.0) (0.4.0)\n",
      "Requirement already satisfied: requests<3.0.0,>=2.13.0 in /Users/samheckle/Documents/school/spring 2022/env/lib/python3.8/site-packages (from spacy<3.3.0,>=3.2.0->en-core-web-md==3.2.0) (2.27.1)\n",
      "Requirement already satisfied: tqdm<5.0.0,>=4.38.0 in /Users/samheckle/Documents/school/spring 2022/env/lib/python3.8/site-packages (from spacy<3.3.0,>=3.2.0->en-core-web-md==3.2.0) (4.63.0)\n",
      "Requirement already satisfied: catalogue<2.1.0,>=2.0.6 in /Users/samheckle/Documents/school/spring 2022/env/lib/python3.8/site-packages (from spacy<3.3.0,>=3.2.0->en-core-web-md==3.2.0) (2.0.6)\n",
      "Requirement already satisfied: murmurhash<1.1.0,>=0.28.0 in /Users/samheckle/Documents/school/spring 2022/env/lib/python3.8/site-packages (from spacy<3.3.0,>=3.2.0->en-core-web-md==3.2.0) (1.0.6)\n",
      "Requirement already satisfied: blis<0.8.0,>=0.4.0 in /Users/samheckle/Documents/school/spring 2022/env/lib/python3.8/site-packages (from spacy<3.3.0,>=3.2.0->en-core-web-md==3.2.0) (0.7.6)\n",
      "Requirement already satisfied: numpy>=1.15.0 in /Users/samheckle/Documents/school/spring 2022/env/lib/python3.8/site-packages (from spacy<3.3.0,>=3.2.0->en-core-web-md==3.2.0) (1.22.2)\n",
      "Requirement already satisfied: packaging>=20.0 in /Users/samheckle/Documents/school/spring 2022/env/lib/python3.8/site-packages (from spacy<3.3.0,>=3.2.0->en-core-web-md==3.2.0) (21.3)\n",
      "Requirement already satisfied: pydantic!=1.8,!=1.8.1,<1.9.0,>=1.7.4 in /Users/samheckle/Documents/school/spring 2022/env/lib/python3.8/site-packages (from spacy<3.3.0,>=3.2.0->en-core-web-md==3.2.0) (1.8.2)\n",
      "Requirement already satisfied: pathy>=0.3.5 in /Users/samheckle/Documents/school/spring 2022/env/lib/python3.8/site-packages (from spacy<3.3.0,>=3.2.0->en-core-web-md==3.2.0) (0.6.1)\n",
      "Requirement already satisfied: thinc<8.1.0,>=8.0.12 in /Users/samheckle/Documents/school/spring 2022/env/lib/python3.8/site-packages (from spacy<3.3.0,>=3.2.0->en-core-web-md==3.2.0) (8.0.13)\n",
      "Requirement already satisfied: preshed<3.1.0,>=3.0.2 in /Users/samheckle/Documents/school/spring 2022/env/lib/python3.8/site-packages (from spacy<3.3.0,>=3.2.0->en-core-web-md==3.2.0) (3.0.6)\n",
      "Requirement already satisfied: pyparsing!=3.0.5,>=2.0.2 in /Users/samheckle/Documents/school/spring 2022/env/lib/python3.8/site-packages (from packaging>=20.0->spacy<3.3.0,>=3.2.0->en-core-web-md==3.2.0) (3.0.7)\n",
      "Requirement already satisfied: smart-open<6.0.0,>=5.0.0 in /Users/samheckle/Documents/school/spring 2022/env/lib/python3.8/site-packages (from pathy>=0.3.5->spacy<3.3.0,>=3.2.0->en-core-web-md==3.2.0) (5.2.1)\n",
      "Requirement already satisfied: typing-extensions>=3.7.4.3 in /Users/samheckle/Documents/school/spring 2022/env/lib/python3.8/site-packages (from pydantic!=1.8,!=1.8.1,<1.9.0,>=1.7.4->spacy<3.3.0,>=3.2.0->en-core-web-md==3.2.0) (4.0.1)\n",
      "Requirement already satisfied: idna<4,>=2.5 in /Users/samheckle/Documents/school/spring 2022/env/lib/python3.8/site-packages (from requests<3.0.0,>=2.13.0->spacy<3.3.0,>=3.2.0->en-core-web-md==3.2.0) (3.3)\n",
      "Requirement already satisfied: urllib3<1.27,>=1.21.1 in /Users/samheckle/Documents/school/spring 2022/env/lib/python3.8/site-packages (from requests<3.0.0,>=2.13.0->spacy<3.3.0,>=3.2.0->en-core-web-md==3.2.0) (1.26.8)\n",
      "Requirement already satisfied: certifi>=2017.4.17 in /Users/samheckle/Documents/school/spring 2022/env/lib/python3.8/site-packages (from requests<3.0.0,>=2.13.0->spacy<3.3.0,>=3.2.0->en-core-web-md==3.2.0) (2021.10.8)\n",
      "Requirement already satisfied: charset-normalizer~=2.0.0 in /Users/samheckle/Documents/school/spring 2022/env/lib/python3.8/site-packages (from requests<3.0.0,>=2.13.0->spacy<3.3.0,>=3.2.0->en-core-web-md==3.2.0) (2.0.12)\n",
      "Requirement already satisfied: click<9.0.0,>=7.1.1 in /Users/samheckle/Documents/school/spring 2022/env/lib/python3.8/site-packages (from typer<0.5.0,>=0.3.0->spacy<3.3.0,>=3.2.0->en-core-web-md==3.2.0) (8.0.3)\n",
      "Requirement already satisfied: MarkupSafe>=2.0 in /Users/samheckle/Documents/school/spring 2022/env/lib/python3.8/site-packages (from jinja2->spacy<3.3.0,>=3.2.0->en-core-web-md==3.2.0) (2.0.1)\n",
      "Installing collected packages: en-core-web-md\n",
      "Successfully installed en-core-web-md-3.2.0\n",
      "\u001b[38;5;2m✔ Download and installation successful\u001b[0m\n",
      "You can now load the package via spacy.load('en_core_web_md')\n"
     ]
    }
   ],
   "source": [
    "import sys\n",
    "!{\"/Users/samheckle/Documents/school/spring\\ 2022/env/bin/python3\"} -m spacy download en_core_web_md"
   ]
  },
  {
   "cell_type": "code",
   "execution_count": 6,
   "id": "700fb909",
   "metadata": {},
   "outputs": [
    {
     "name": "stdout",
     "output_type": "stream",
     "text": [
      "/Users/samheckle/Documents/school/spring 2022/env/bin/python3\n"
     ]
    }
   ],
   "source": [
    "print(sys.executable)"
   ]
  },
  {
   "cell_type": "code",
   "execution_count": 12,
   "id": "855f9460",
   "metadata": {},
   "outputs": [],
   "source": [
    "nlp = spacy.load('en_core_web_md')"
   ]
  },
  {
   "cell_type": "code",
   "execution_count": 13,
   "id": "7276dae4",
   "metadata": {},
   "outputs": [],
   "source": [
    "text = open(\"frankenstein.txt\").read()"
   ]
  },
  {
   "cell_type": "code",
   "execution_count": 14,
   "id": "04b58b2d",
   "metadata": {},
   "outputs": [],
   "source": [
    "doc = nlp(text)"
   ]
  },
  {
   "cell_type": "code",
   "execution_count": 16,
   "id": "051ea427",
   "metadata": {},
   "outputs": [],
   "source": [
    "sentences = list(doc.sents)\n",
    "words = [w for w in list(doc) if w.is_alpha]\n",
    "noun_chunks = list(doc.noun_chunks)\n",
    "entities = list(doc.ents)"
   ]
  },
  {
   "cell_type": "code",
   "execution_count": 17,
   "id": "7b9da1eb",
   "metadata": {},
   "outputs": [
    {
     "data": {
      "text/plain": [
       "3568"
      ]
     },
     "execution_count": 17,
     "metadata": {},
     "output_type": "execute_result"
    }
   ],
   "source": [
    "len(sentences)"
   ]
  },
  {
   "cell_type": "code",
   "execution_count": 18,
   "id": "5be347b7",
   "metadata": {},
   "outputs": [
    {
     "name": "stdout",
     "output_type": "stream",
     "text": [
      "\"  \"Certainly; it would indeed be very impertinent and inhuman in me to trouble you with any inquisitiveness of mine.\n",
      "\n",
      "During the two years that had elapsed previous to their marriage my father had gradually relinquished all his public functions; and immediately after their union they sought the pleasant climate of Italy, and the change of scene and interest attendant on a tour through that land of wonders, as a restorative for her weakened frame.\n",
      "\n",
      "And if these were my sensations, who can describe those of Henry?\n",
      "\n",
      "How kind, how very kind!\n",
      "\n",
      "I felt also sentiments of joy and affection revive in my bosom; my gloom disappeared, and in a short time I became as cheerful as before I was attacked by the fatal passion.\n",
      "\n"
     ]
    }
   ],
   "source": [
    "import random\n",
    "for item in random.sample(sentences, 5):\n",
    "    print(item.text.strip().replace(\"\\n\", \" \"))\n",
    "    print()"
   ]
  },
  {
   "cell_type": "code",
   "execution_count": 20,
   "id": "73af5347",
   "metadata": {},
   "outputs": [
    {
     "name": "stdout",
     "output_type": "stream",
     "text": [
      "two\n",
      "years\n",
      "M. Waldman\n",
      "the United States\n",
      "a few minutes\n",
      "Ernest\n",
      "morning\n",
      "first\n",
      "the Round Table of King Arthur\n",
      "Britain\n",
      "Caroline Beaufort\n",
      "Agatha\n",
      "Frankenstein\n"
     ]
    }
   ],
   "source": [
    "# extracting proper names, locations, times dates\n",
    "# entities\n",
    "for item in random.sample(entities, 12):\n",
    "    print(item.text)"
   ]
  },
  {
   "cell_type": "markdown",
   "id": "613118af",
   "metadata": {},
   "source": [
    "### parts of speech\n",
    "\n",
    "|   |   |   |   |   |  | ||\n",
    "|---|---|---|---|---|---|---|---|\n",
    "|i |really |love |entrees  |from |the |new|cafeteria|\n",
    "|  pronoun |  adverb | verb  | noun(pl)  | preposition  |determiner|adjective|noun|"
   ]
  },
  {
   "cell_type": "code",
   "execution_count": 23,
   "id": "b16c7221",
   "metadata": {},
   "outputs": [],
   "source": [
    "nouns = [item for item in words if item.pos_ == \"NOUN\"]\n",
    "verbs = [item for item in words if item.pos_ == \"VERB\"]\n",
    "adjs = [item for item in words if item.pos_ == \"ADJ\"]\n",
    "advs = [item for item in words if item.pos_ == \"ADV\"]"
   ]
  },
  {
   "cell_type": "code",
   "execution_count": 22,
   "id": "c88eebee",
   "metadata": {},
   "outputs": [
    {
     "data": {
      "text/plain": [
       "[coast,\n",
       " spectre,\n",
       " secret,\n",
       " name,\n",
       " months,\n",
       " creation,\n",
       " months,\n",
       " beings,\n",
       " bent,\n",
       " unhappiness,\n",
       " story,\n",
       " studies,\n",
       " point,\n",
       " ideas,\n",
       " courses,\n",
       " death,\n",
       " love,\n",
       " water,\n",
       " scene,\n",
       " affectionate]"
      ]
     },
     "execution_count": 22,
     "metadata": {},
     "output_type": "execute_result"
    }
   ],
   "source": [
    "random.sample(nouns, 20)"
   ]
  },
  {
   "cell_type": "markdown",
   "id": "959dc228",
   "metadata": {},
   "source": [
    "https://www.ling.upenn.edu/courses/Fall_2003/ling001/penn_treebank_pos.html"
   ]
  },
  {
   "cell_type": "code",
   "execution_count": null,
   "id": "282c5e47",
   "metadata": {},
   "outputs": [],
   "source": [
    "ing = [item for item in words if item.pos_ == \"ADV\"]"
   ]
  }
 ],
 "metadata": {
  "kernelspec": {
   "display_name": "Python 3 (ipykernel)",
   "language": "python",
   "name": "python3"
  },
  "language_info": {
   "codemirror_mode": {
    "name": "ipython",
    "version": 3
   },
   "file_extension": ".py",
   "mimetype": "text/x-python",
   "name": "python",
   "nbconvert_exporter": "python",
   "pygments_lexer": "ipython3",
   "version": "3.8.7"
  }
 },
 "nbformat": 4,
 "nbformat_minor": 5
}
